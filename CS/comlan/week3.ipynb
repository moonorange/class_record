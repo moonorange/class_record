{
 "cells": [
  {
   "cell_type": "markdown",
   "metadata": {},
   "source": [
    "# • 学修記録3－1"
   ]
  },
  {
   "cell_type": "markdown",
   "metadata": {},
   "source": [
    "・関数\n",
    "\n",
    "・クラス\n",
    "\n",
    "• 何度も発生する処理\n",
    "\n",
    "• 同じ場所で行う処理であれば\n",
    "for文で繰り返し実行すればよ\n",
    "いが，別の場所で行う処理は\n",
    "for文が使えない．\n",
    "\n",
    "• 長い処理\n",
    "• すべての処理をmainに書くと，\n",
    "全体の流れがわからない\n",
    "\n",
    "• mainには関数のみにして，大きな流れを記述"
   ]
  },
  {
   "cell_type": "markdown",
   "metadata": {},
   "source": [
    "# 学習記録３−２"
   ]
  },
  {
   "cell_type": "code",
   "execution_count": 306,
   "metadata": {},
   "outputs": [],
   "source": [
    "def min_number():\n",
    "    mylist =[60,80,90,40,70]\n",
    "    sn = mylist[0] \n",
    "    for i in mylist:\n",
    "        if i < sn:\n",
    "            sn = i\n",
    "    return sn\n",
    "\n",
    "        \n",
    "     "
   ]
  },
  {
   "cell_type": "code",
   "execution_count": 307,
   "metadata": {},
   "outputs": [
    {
     "data": {
      "text/plain": [
       "40"
      ]
     },
     "execution_count": 307,
     "metadata": {},
     "output_type": "execute_result"
    }
   ],
   "source": [
    "min_number()"
   ]
  },
  {
   "cell_type": "code",
   "execution_count": 310,
   "metadata": {},
   "outputs": [],
   "source": [
    "def average_v(l):\n",
    "    mn = sum(l) / len(l)\n",
    "    diff =[]\n",
    "    for i in l:\n",
    "        diff.append((i-mn) ** 2)\n",
    "    difs = sum(diff)\n",
    "    vari = difs / (len(l) - 1)\n",
    "    mn_v = [mn,vari]\n",
    "    return mn_v\n"
   ]
  },
  {
   "cell_type": "code",
   "execution_count": 311,
   "metadata": {},
   "outputs": [
    {
     "data": {
      "text/plain": [
       "[68.0, 370.0]"
      ]
     },
     "execution_count": 311,
     "metadata": {},
     "output_type": "execute_result"
    }
   ],
   "source": [
    "average_v([60,80,90,40,70])"
   ]
  },
  {
   "cell_type": "code",
   "execution_count": null,
   "metadata": {},
   "outputs": [],
   "source": []
  },
  {
   "cell_type": "code",
   "execution_count": 188,
   "metadata": {},
   "outputs": [],
   "source": []
  },
  {
   "cell_type": "code",
   "execution_count": null,
   "metadata": {},
   "outputs": [],
   "source": []
  },
  {
   "cell_type": "code",
   "execution_count": null,
   "metadata": {},
   "outputs": [],
   "source": []
  },
  {
   "cell_type": "code",
   "execution_count": null,
   "metadata": {},
   "outputs": [],
   "source": []
  }
 ],
 "metadata": {
  "kernelspec": {
   "display_name": "Python 3",
   "language": "python",
   "name": "python3"
  },
  "language_info": {
   "codemirror_mode": {
    "name": "ipython",
    "version": 3
   },
   "file_extension": ".py",
   "mimetype": "text/x-python",
   "name": "python",
   "nbconvert_exporter": "python",
   "pygments_lexer": "ipython3",
   "version": "3.6.4"
  }
 },
 "nbformat": 4,
 "nbformat_minor": 2
}
