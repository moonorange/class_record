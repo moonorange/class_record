{
 "cells": [
  {
   "cell_type": "code",
   "execution_count": null,
   "metadata": {},
   "outputs": [],
   "source": [
    "# 特徴量の数が多いので､locメソッドで一部の特徴量のみを選択\n",
    "ev_1 = df_new.loc[:, ['Hp','Luxuary',\"AWD\"]]\n",
    "X1 = ev_1.values\n",
    "ev_2 = df.loc[:, [\"Hp\",\"Luxuary\",\"Hybrid(option)\",\"SUV\"]]\n",
    "X2 = ev_2.values\n",
    "ev_3 = df.loc[:, [\"Hp\",\"model_asi\",\"SUV\",\"Luxuary\",\"rear\"]]\n",
    "X3 = ev_3.values"
   ]
  },
  {
   "cell_type": "code",
   "execution_count": null,
   "metadata": {},
   "outputs": [],
   "source": [
    "#アジア産が１、それ以外は０\n",
    "def Domestic(x):\n",
    "    if 'Honda' in x:\n",
    "        r = 0\n",
    "    elif \"Hyundai\" in x:\n",
    "        r = 0\n",
    "    elif \"Kia\" in x:\n",
    "        r = 0\n",
    "    elif \"Mazda\" in x:\n",
    "        r = 0\n",
    "    elif \"Mitsubishi\" in x:\n",
    "        r = 0\n",
    "    elif \"Nissan\" in x:\n",
    "        r = 0\n",
    "    elif \"Subaru\" in x:\n",
    "        r = 0  \n",
    "    elif \"Toyota\" in x:\n",
    "        r = 0  \n",
    "    else:\n",
    "        r = 1\n",
    "    return r"
   ]
  },
  {
   "cell_type": "code",
   "execution_count": null,
   "metadata": {},
   "outputs": [],
   "source": [
    "ev_3 = df.loc[:, [\"Hp\",\"model_ja\",\"Luxuary\",\"rear\",\"SUV\",\"Hybrid(option)\",\"AWD\",\"Minivan\",\"Hybrid\",\"Sports\"]]"
   ]
  },
  {
   "cell_type": "code",
   "execution_count": null,
   "metadata": {},
   "outputs": [],
   "source": [
    "ev_3 = df.loc[:, [\"length(inch)\",\"Hybrid(option)\",\"Luxuary\",\"SUV\",\"Hp\",\"AWD\",\"model_ja\",\"rear\",\"Disp\",\"6over\",\"cvt\",\"Minivan\",\"MPG_ovarall\",\"Pickup\"]]"
   ]
  },
  {
   "cell_type": "code",
   "execution_count": null,
   "metadata": {},
   "outputs": [],
   "source": [
    "ev_3 = df_new.loc[:, [\"Hp\",\"model_ja\",\"Luxuary\",\"rear\"]]"
   ]
  }
 ],
 "metadata": {
  "kernelspec": {
   "display_name": "Python 3",
   "language": "python",
   "name": "python3"
  },
  "language_info": {
   "codemirror_mode": {
    "name": "ipython",
    "version": 3
   },
   "file_extension": ".py",
   "mimetype": "text/x-python",
   "name": "python",
   "nbconvert_exporter": "python",
   "pygments_lexer": "ipython3",
   "version": "3.7.0"
  }
 },
 "nbformat": 4,
 "nbformat_minor": 2
}
