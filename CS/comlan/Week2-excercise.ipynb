{
 "cells": [
  {
   "cell_type": "markdown",
   "metadata": {},
   "source": [
    "# ISC222 コンピュータ言語 第2回演習回答例\n"
   ]
  },
  {
   "cell_type": "markdown",
   "metadata": {},
   "source": [
    "### 学修記録 2-2"
   ]
  },
  {
   "cell_type": "code",
   "execution_count": 1,
   "metadata": {},
   "outputs": [
    {
     "name": "stdout",
     "output_type": "stream",
     "text": [
      "[[1, 2, 3, 4, 5, 6, 7, 8, 9], [2, 4, 6, 8, 10, 12, 14, 16, 18], [3, 6, 9, 12, 15, 18, 21, 24, 27], [4, 8, 12, 16, 20, 24, 28, 32, 36], [5, 10, 15, 20, 25, 30, 35, 40, 45], [6, 12, 18, 24, 30, 36, 42, 48, 54], [7, 14, 21, 28, 35, 42, 49, 56, 63], [8, 16, 24, 32, 40, 48, 56, 64, 72], [9, 18, 27, 36, 45, 54, 63, 72, 81]]\n"
     ]
    }
   ],
   "source": [
    "tdl = []\n",
    "for i in range(9):\n",
    "    tdl.append([])\n",
    "    for j in range(9):\n",
    "        tdl[i].append((i+1)*(j+1))\n",
    "print(tdl)"
   ]
  },
  {
   "cell_type": "code",
   "execution_count": 3,
   "metadata": {},
   "outputs": [
    {
     "name": "stdout",
     "output_type": "stream",
     "text": [
      "[[1, 2, 3, 4, 5, 6, 7, 8, 9], [2, 4, 6, 8, 10, 12, 14, 16, 18], [3, 6, 9, 12, 15, 18, 21, 24, 27], [4, 8, 12, 16, 20, 24, 28, 32, 36], [5, 10, 15, 20, 25, 30, 35, 40, 45], [6, 12, 18, 24, 30, 36, 42, 48, 54], [7, 14, 21, 28, 35, 42, 49, 56, 63], [8, 16, 24, 32, 40, 48, 56, 64, 72], [9, 18, 27, 36, 45, 54, 63, 72, 81]]\n"
     ]
    }
   ],
   "source": [
    "tdl2 = [[(x+1)*(y+1) for x in range(9)] for y in range(9)]\n",
    "print(tdl2)"
   ]
  },
  {
   "cell_type": "code",
   "execution_count": 46,
   "metadata": {},
   "outputs": [
    {
     "name": "stdout",
     "output_type": "stream",
     "text": [
      "['a', 'b', 'c', 'd', 'e', 'f', 'g', 'h', 'i', 'j', 'k', 'l', 'm', 'n', 'o', 'p', 'q', 'r', 's', 't', 'u', 'v', 'w', 'x', 'y', 'z']\n"
     ]
    }
   ],
   "source": [
    "a = 'a'\n",
    "a = [chr(i) for i in range(97, 97+26)]\n",
    "print(a)"
   ]
  },
  {
   "cell_type": "code",
   "execution_count": 11,
   "metadata": {},
   "outputs": [
    {
     "name": "stdout",
     "output_type": "stream",
     "text": [
      "[3.196, 3.152, 3.18, 3.16, 3.156, 3.188, 3.092, 3.264, 3.168, 3.172, 3.14, 3.188, 3.16, 3.2, 3.056, 3.092, 3.128, 3.236, 3.216, 3.092, 3.12, 3.16, 3.052, 3.044, 3.184, 3.144, 3.152, 3.22, 3.136, 3.08, 3.188, 3.184, 3.1, 3.108, 3.124, 3.124, 3.1, 3.108, 3.144, 3.096, 3.212, 3.124, 3.188, 3.176, 3.04, 3.176, 3.112, 3.16, 3.132, 3.056, 3.124, 3.16, 3.272, 2.996, 3.188, 3.16, 3.18, 3.124, 3.148, 3.204, 3.148, 3.184, 3.172, 3.18, 3.188, 3.188, 3.104, 3.16, 3.172, 3.096, 3.164, 3.192, 3.14, 3.096, 3.112, 3.228, 3.14, 3.168, 3.06, 3.084, 3.208, 3.2, 3.016, 3.168, 3.176, 3.212, 3.208, 3.124, 3.144, 3.124, 3.124, 3.132, 3.112, 3.1, 3.116, 3.14, 3.216, 3.064, 3.2, 3.136, 3.052, 3.14, 3.168, 3.148, 3.12, 3.188, 3.192, 3.132, 3.172, 3.068, 3.16, 3.072, 3.116, 3.148, 3.036, 3.164, 3.208, 3.144, 3.176, 3.172, 3.164, 3.192, 3.112, 3.16, 3.164, 3.076, 3.128, 3.052, 3.08, 3.068, 3.184, 3.152, 3.132, 3.112, 3.156, 3.048, 3.144, 3.172, 3.104, 3.136, 3.112, 3.192, 3.064, 3.14, 3.092, 3.22, 3.12, 3.144, 3.156, 3.096, 3.052, 3.14, 3.128, 3.12, 3.2, 3.168, 3.144, 3.244, 3.092, 3.08, 3.208, 3.112, 3.108, 3.148, 3.192, 3.116, 3.152, 3.108, 3.136, 3.168, 3.212, 3.088, 3.104, 3.224, 3.084, 3.216, 3.124, 3.12, 3.096, 3.188, 3.224, 3.188, 3.116, 3.208, 3.112, 3.108, 3.12, 3.128, 3.176, 3.188, 3.164, 3.144, 3.22, 3.084, 3.104, 3.1, 3.06, 3.092, 3.16, 3.132, 3.084, 3.264, 3.148, 3.108, 3.248, 3.056, 3.1, 3.104, 3.188, 3.212, 3.144, 3.172, 3.192, 3.124, 3.148, 3.144, 3.156, 3.116, 3.284, 3.148, 3.236, 3.064, 3.132, 3.124, 3.268, 3.16, 3.164, 3.204, 3.116, 3.144, 3.056, 3.108, 3.176, 3.092, 3.108, 3.196, 3.096, 3.132, 3.092, 3.128, 3.164, 3.212, 3.124, 3.108, 3.104, 3.216, 3.164, 3.104, 3.176, 3.08, 3.176, 3.212, 3.192, 3.18, 3.184, 3.208, 3.18, 3.192, 3.172, 3.212, 3.112, 3.12, 3.22, 3.148, 3.052, 3.208, 3.12, 3.02, 3.14, 3.176, 3.216, 3.136, 3.168, 3.108, 3.08, 3.128, 3.2, 3.18, 3.14, 3.176, 3.148, 3.152, 3.072, 3.112, 3.112, 3.092, 3.012, 3.18, 3.0, 3.168, 3.14, 3.108, 3.136, 3.112, 3.172, 3.124, 3.188, 3.152, 3.168, 3.128, 3.104, 3.156, 3.224, 3.184, 3.104, 3.112, 3.104, 3.092, 3.212, 3.2, 3.1, 3.192, 3.044, 3.16, 3.256, 3.148, 3.188, 3.144, 3.128, 3.12, 3.02, 3.02, 3.156, 3.244, 3.244, 3.088, 3.208, 3.092, 3.128, 3.128, 3.12, 3.112, 3.156, 3.02, 3.196, 3.148, 3.112, 3.136, 3.088, 3.076, 3.188, 3.264, 3.228, 3.18, 3.016, 3.22, 2.996, 3.132, 3.116, 3.06, 3.196, 3.052, 3.116, 3.156, 3.172, 3.044, 3.156, 3.144, 3.116, 3.148, 3.04, 3.152, 3.144, 3.192, 2.996, 3.132, 3.108, 3.14, 3.148, 3.188, 3.136, 3.108, 3.088, 3.256, 3.172, 3.232, 3.196, 3.16, 3.2, 3.148, 3.144, 3.136, 3.204, 3.104, 3.148, 3.216, 3.164, 3.176, 3.144, 3.12, 3.16, 3.164, 3.2, 3.236, 3.032, 3.228, 3.24, 3.212, 3.168, 3.18, 3.068, 3.132, 3.08, 3.208, 3.148, 3.092, 3.092, 3.084, 3.052, 3.14, 3.128, 3.092, 3.144, 3.152, 3.224, 3.188, 3.192, 3.132, 3.152, 3.18, 3.224, 3.112, 3.08, 3.112, 3.084, 3.072, 3.132, 3.192, 3.136, 3.116, 3.068, 3.216, 3.12, 3.156, 3.064, 3.124, 3.236, 3.136, 3.144, 3.1, 3.056, 3.168, 3.148, 3.168, 3.208, 3.088, 3.116, 3.092, 3.064, 3.28, 3.156, 3.144, 3.192, 3.188, 3.168, 3.108, 3.232, 3.128, 3.216, 3.12, 3.152, 3.172, 3.08, 3.068, 3.092, 3.116, 3.196, 3.18, 3.168, 3.192, 3.064, 3.196, 3.112, 3.096, 3.184, 3.108, 3.084, 3.16, 3.216, 3.116, 3.108, 3.124, 3.22, 3.192, 3.252, 3.1, 3.096, 3.116, 3.132, 3.18, 3.124, 3.06, 3.116, 3.128, 3.124, 3.196, 3.128, 3.232, 3.164, 3.1, 3.168, 3.184, 3.136, 3.136, 3.112, 3.052, 3.204, 3.196, 3.156, 3.176, 3.212, 3.216, 3.156, 3.128, 3.192, 3.128, 3.2, 3.092, 3.2, 3.064, 3.172, 3.068, 3.116, 3.104, 3.132, 3.264, 3.156, 3.196, 3.144, 3.12, 3.2, 3.172, 3.1, 3.096, 3.088, 3.056, 3.164, 3.116, 3.092, 3.132, 3.116, 3.1, 3.084, 3.144, 3.152, 3.164, 3.152, 3.248, 3.128, 3.2, 3.12, 3.104, 3.212, 3.12, 3.108, 3.18, 3.132, 3.124, 3.068, 3.156, 3.256, 3.128, 3.088, 3.188, 3.092, 3.156, 3.096, 3.12, 3.132, 3.188, 3.068, 3.152, 3.112, 3.072, 3.176, 3.08, 3.152, 3.052, 3.16, 3.036, 3.128, 3.104, 3.148, 3.148, 3.056, 3.12, 3.18, 3.02, 3.244, 3.16, 3.248, 3.108, 3.164, 3.128, 3.176, 3.156, 3.152, 3.196, 3.16, 3.132, 3.108, 3.12, 3.22, 3.072, 3.152, 3.212, 3.184, 3.088, 3.16, 3.188, 3.108, 3.128, 3.204, 3.204, 3.188, 3.168, 3.092, 3.188, 3.128, 3.148, 3.216, 3.096, 3.088, 3.164, 3.016, 3.204, 3.124, 3.212, 3.152, 3.136, 3.108, 3.224, 3.136, 3.164, 3.204, 3.112, 3.056, 3.136, 3.132, 3.14, 3.072, 3.136, 3.128, 3.132, 3.108, 3.18, 3.108, 3.196, 3.184, 3.172, 3.084, 3.176, 3.184, 3.084, 3.168, 3.176, 3.124, 3.132, 3.204, 3.144, 3.236, 3.16, 3.196, 3.164, 3.196, 3.172, 3.128, 3.16, 3.188, 3.116, 3.24, 3.156, 3.12, 3.136, 3.188, 3.18, 3.208, 3.108, 3.284, 3.132, 3.132, 3.072, 3.096, 3.088, 3.116, 3.244, 3.14, 3.164, 3.156, 3.16, 3.052, 3.184, 3.152, 3.108, 3.184, 3.148, 3.076, 3.048, 3.204, 3.144, 3.208, 3.104, 3.092, 3.184, 3.248, 3.172, 3.152, 3.132, 3.116, 3.116, 3.136, 3.148, 3.048, 3.068, 3.044, 3.136, 3.18, 3.12, 3.12, 3.136, 3.152, 3.14, 3.136, 3.1, 3.164, 3.152, 3.192, 3.044, 3.168, 3.18, 3.152, 3.164, 3.128, 3.208, 3.18, 3.116, 3.084, 3.18, 3.096, 3.16, 3.192, 3.168, 3.148, 3.08, 3.184, 3.184, 3.096, 3.16, 3.132, 3.108, 3.156, 3.18, 3.18, 3.188, 3.124, 3.212, 3.2, 3.16, 3.192, 3.168, 3.192, 3.14, 3.172, 3.188, 3.2, 3.132, 3.18, 3.16, 3.132, 3.156, 3.192, 3.188, 3.26, 3.136, 3.108, 3.196, 3.132, 3.144, 3.204, 3.152, 3.176, 3.132, 3.104, 3.148, 3.072, 3.128, 3.108, 3.18, 3.092, 3.104, 3.088, 3.288, 3.18, 3.144, 3.088, 3.116, 3.108, 3.064, 3.208, 3.04, 3.18, 3.184, 3.096, 3.22, 3.144, 3.068, 3.188, 3.128, 3.208, 3.2, 3.216, 3.192, 3.156, 3.184, 3.204, 3.204, 3.2, 3.064, 3.164, 3.132, 3.156, 3.208, 3.14, 3.128, 3.128, 3.188, 3.14, 3.188, 3.136, 3.224, 3.024, 3.092, 3.168, 3.088, 3.192, 3.112, 3.168, 3.2, 3.096, 3.152, 3.14, 3.144, 3.156, 3.196, 3.08, 3.124, 3.148, 3.172, 3.18, 3.184, 3.064, 3.228, 3.196, 3.224, 3.244, 3.1, 3.172, 3.128, 3.132, 3.276, 3.112, 3.236, 3.148, 3.116, 3.12, 3.152, 3.084, 3.1, 3.108, 3.16, 3.14, 3.14, 3.156, 3.084, 3.104, 3.132, 3.124, 3.112, 3.2, 3.164, 3.184, 3.176, 3.044, 3.172, 3.044, 3.12, 3.14, 3.004, 3.148, 3.128, 3.136, 3.176, 3.172, 3.192, 3.16, 3.136, 3.148, 3.204, 3.176, 3.16, 3.16, 3.104, 3.144, 3.156, 3.116, 3.144, 3.196, 3.176, 3.18, 3.132, 3.176, 3.176, 3.064, 3.092, 3.152, 3.2, 3.172, 3.184, 3.224, 3.128, 3.172, 3.18, 3.14, 3.148, 3.18, 3.132, 3.096, 3.22, 3.132, 3.12, 3.188, 3.112, 3.068, 3.192, 3.108, 3.068, 3.1, 3.136, 3.156, 3.228, 3.06, 3.148, 3.168, 3.12, 3.116, 3.12, 3.236, 3.112, 3.268, 3.104, 3.096, 3.176, 3.104, 3.096, 3.156, 3.14, 3.248, 3.048, 3.18, 3.12, 3.176, 3.124, 3.144, 3.144, 3.048, 3.192, 3.24, 3.156, 3.244, 3.176, 3.148, 3.12, 3.128, 3.172, 3.104, 3.148, 3.212, 3.14, 3.112, 3.096, 3.084, 3.032, 3.044, 3.088, 3.232, 3.156, 3.116, 3.204, 3.048, 3.096, 3.096, 3.14, 3.116, 3.14, 3.12, 3.236, 3.188, 3.236, 3.18, 3.168]\n"
     ]
    },
    {
     "data": {
      "image/png": "[encoded data removed]",
      "text/plain": [
       "<Figure size 432x288 with 1 Axes>"
      ]
     },
     "metadata": {},
     "output_type": "display_data"
    }
   ],
   "source": [
    "%matplotlib inline\n",
    "#import matplotlib.pyplot as plt\n",
    "import matplotlib.pyplot\n",
    "import numpy\n",
    "import math\n",
    "import random\n",
    "num_rand = 1000\n",
    "num_iter = 1000\n",
    "rounding = 0.01\n",
    "err_list = []\n",
    "apx_list = []\n",
    "for i in range(num_iter):\n",
    "    randx = [random.random() for x in range(num_rand)]\n",
    "    randy = [random.random() for x in range(num_rand)]\n",
    "    apx = sum( [1 if math.sqrt(randx[i]**2+randy[i]**2) < 1 else 0  for i in range(num_rand)])/num_rand*4\n",
    "    err_list.append(apx-math.pi)\n",
    "    apx_list.append(apx)\n",
    "print(apx_list)\n",
    "    \n",
    "rounded_max = math.ceil(max(err_list)/rounding)\n",
    "rounded_min = math.floor(min(err_list)/rounding)\n",
    "rounded_err = [x//rounding for x in err_list]\n",
    "#print(rounded_err)\n",
    "#print(rounded_max,rounded_min)\n",
    "x_list = range(int(rounded_min),int(rounded_max))\n",
    "freq_list = [rounded_err.count(x) for x in x_list]\n",
    "matplotlib.pyplot.plot(x_list,freq_list)\n",
    "matplotlib.pyplot.show()            "
   ]
  },
  {
   "cell_type": "code",
   "execution_count": 196,
   "metadata": {},
   "outputs": [
    {
     "name": "stdout",
     "output_type": "stream",
     "text": [
      "[1023, 1023, 982, 906, 1009, 1010, 1029, 983, 1005, 1030]\n",
      "{0.0: 1023, 0.1: 1023, 0.2: 982, 0.30000000000000004: 906, 0.4: 1009, 0.5: 1010, 0.6000000000000001: 1029, 0.7000000000000001: 983, 0.8: 1005, 0.9: 1030}\n"
     ]
    }
   ],
   "source": [
    "import numpy\n",
    "import random\n",
    "\n",
    "num_rand = 10000\n",
    "rounding = 0.1\n",
    "rand_range = 1.0\n",
    "num_bin = int(rand_range/rounding)\n",
    "randx = [random.random() for x in range(num_rand)]\n",
    "l = [int(x // rounding) for x in randx]\n",
    "freq = [l.count(x) for x in range(num_bin)] \n",
    "print(freq)\n",
    "rep_list = [x*rounding for x in range(num_bin)]\n",
    "freq_dict = dict(zip(rep_list,freq))\n",
    "print(freq_dict)\n"
   ]
  },
  {
   "cell_type": "code",
   "execution_count": 7,
   "metadata": {},
   "outputs": [
    {
     "name": "stdout",
     "output_type": "stream",
     "text": [
      "[91, 90, 89, 74, 72, 88]\n",
      "{1: 91, 2: 90, 3: 89, 4: 74, 5: 72, 6: 88}\n"
     ]
    }
   ],
   "source": [
    "import numpy\n",
    "import random\n",
    "num_rand = 600\n",
    "rand_min = 1\n",
    "rand_max = 7\n",
    "rand = [random.randint(rand_min,rand_max) for x in range(num_rand)]\n",
    "#print(rand)\n",
    "freq = [rand.count(x) for x in range(rand_min,rand_max)]\n",
    "print(freq)\n",
    "freq_dict = dict(zip(range(rand_min,rand_max),freq))\n",
    "print(freq_dict)\n"
   ]
  },
  {
   "cell_type": "code",
   "execution_count": 186,
   "metadata": {},
   "outputs": [
    {
     "name": "stdout",
     "output_type": "stream",
     "text": [
      "0.08307746128882182\n"
     ]
    },
    {
     "data": {
      "text/plain": [
       "0.08333333333333333"
      ]
     },
     "execution_count": 186,
     "metadata": {},
     "output_type": "execute_result"
    }
   ],
   "source": [
    "import numpy\n",
    "\n",
    "num_rand = 100000\n",
    "randx = [random.random() for x in range(num_rand)]\n",
    "m = sum(randx)/len(randx)\n",
    "s2 = sum([(x-m)**2 for x in randx])/len(randx)\n",
    "print(s2)"
   ]
  }
 ],
 "metadata": {
  "kernelspec": {
   "display_name": "Python 3",
   "language": "python",
   "name": "python3"
  },
  "language_info": {
   "codemirror_mode": {
    "name": "ipython",
    "version": 3
   },
   "file_extension": ".py",
   "mimetype": "text/x-python",
   "name": "python",
   "nbconvert_exporter": "python",
   "pygments_lexer": "ipython3",
   "version": "3.7.3"
  }
 },
 "nbformat": 4,
 "nbformat_minor": 2
}
