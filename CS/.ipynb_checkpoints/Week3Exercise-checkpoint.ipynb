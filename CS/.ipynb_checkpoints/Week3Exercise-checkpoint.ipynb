{
 "cells": [
  {
   "cell_type": "code",
   "execution_count": 4,
   "metadata": {},
   "outputs": [
    {
     "name": "stdout",
     "output_type": "stream",
     "text": [
      "1\n"
     ]
    }
   ],
   "source": [
    "def my_min(l):\n",
    "    min = l[0]\n",
    "    for i in l:\n",
    "        min = i if i < min else min\n",
    "    return min \n",
    "\n",
    "list = [3,1,3,2,5,4]\n",
    "print(my_min(list))\n"
   ]
  },
  {
   "cell_type": "code",
   "execution_count": 10,
   "metadata": {},
   "outputs": [
    {
     "name": "stdout",
     "output_type": "stream",
     "text": [
      "(3.0, 4.0)\n"
     ]
    }
   ],
   "source": [
    "def calc_mean_var(l):\n",
    "    mean = sum(l)/len(l)\n",
    "    var = sum([(x-mean)**2 for x in l])/len(l)\n",
    "    return mean,var\n",
    "\n",
    "list = [1,5]\n",
    "print(calc_mean_var(list))"
   ]
  },
  {
   "cell_type": "code",
   "execution_count": 14,
   "metadata": {},
   "outputs": [
    {
     "name": "stdout",
     "output_type": "stream",
     "text": [
      "0\n"
     ]
    }
   ],
   "source": [
    "def calc_innerprod(v,w):\n",
    "    return sum([v[i]*w[i] for i in range(len(v))])\n",
    "\n",
    "v = [1,5]\n",
    "w = [-5,1]\n",
    "print(calc_innerprod(v,w))"
   ]
  },
  {
   "cell_type": "code",
   "execution_count": 28,
   "metadata": {},
   "outputs": [
    {
     "name": "stdout",
     "output_type": "stream",
     "text": [
      "0.5000000000000001\n"
     ]
    }
   ],
   "source": [
    "import math\n",
    "def calc_prdnorm(v,w):\n",
    "    def calc_norm(v):\n",
    "        return math.sqrt(sum([x**2 for x in v]))\n",
    "    return (calc_norm(v) * calc_norm(w))\n",
    "v = [1,math.sqrt(3)]\n",
    "w = [1,0]\n",
    "print(calc_innerprod(v,w)/calc_prdnorm(v,w))"
   ]
  },
  {
   "cell_type": "code",
   "execution_count": 95,
   "metadata": {},
   "outputs": [
    {
     "name": "stdout",
     "output_type": "stream",
     "text": [
      "(0.500000000000001, -0.25)\n"
     ]
    }
   ],
   "source": [
    "def find_min(a,b):\n",
    "    if(a>b):\n",
    "        a,b = b,a\n",
    "    step = 0.01\n",
    "    x = a\n",
    "    min = x*(x-1)\n",
    "    argmin = x\n",
    "    while(x < b):\n",
    "        v = x*(x-1)\n",
    "        if (v < min):\n",
    "            min = v\n",
    "            argmin = x\n",
    "        x += step\n",
    "    return argmin,min\n",
    "\n",
    "print(find_min(-1.0,1.0))"
   ]
  },
  {
   "cell_type": "code",
   "execution_count": 50,
   "metadata": {},
   "outputs": [
    {
     "name": "stdout",
     "output_type": "stream",
     "text": [
      "['a', 'b', 'c', 'd', 'e', 'f']\n"
     ]
    }
   ],
   "source": [
    "def separate(st):\n",
    "    l = []\n",
    "    for c in st:\n",
    "        l.append(c)\n",
    "    return(l)\n",
    "\n",
    "print(separate(\"abcdef\"))"
   ]
  },
  {
   "cell_type": "code",
   "execution_count": 80,
   "metadata": {},
   "outputs": [
    {
     "name": "stdout",
     "output_type": "stream",
     "text": [
      "j bn dbftbs a\n",
      "uif ejf jt dbtu\n"
     ]
    }
   ],
   "source": [
    "def caesar(st):\n",
    "    l = \"\"\n",
    "    for c in st:\n",
    "        if c != ' ':\n",
    "            c = chr( (ord(c)-ord(\"a\")+1)%26+ord(\"a\"))\n",
    "        l = l+c\n",
    "    return (str(l))\n",
    "\n",
    "print(caesar(\"i am caesar z\"))\n",
    "print(caesar(\"the die is cast\"))"
   ]
  },
  {
   "cell_type": "code",
   "execution_count": 84,
   "metadata": {},
   "outputs": [
    {
     "name": "stdout",
     "output_type": "stream",
     "text": [
      "i am caesar z\n",
      "the die is cast\n",
      "the die is cast\n"
     ]
    }
   ],
   "source": [
    "def reverse_caesar(st):\n",
    "    l = \"\"\n",
    "    for c in st:\n",
    "        if c != ' ':\n",
    "            c = chr( (ord(c)-ord(\"a\")-1)%26+ord(\"a\"))\n",
    "        l = l+c\n",
    "    return (str(l))\n",
    "\n",
    "print(reverse_caesar(\"j bn dbftbs a\"))\n",
    "print(reverse_caesar(\"uif ejf jt dbtu\"))\n",
    "print(reverse_caesar(caesar(\"the die is cast\")))"
   ]
  },
  {
   "cell_type": "code",
   "execution_count": 110,
   "metadata": {},
   "outputs": [
    {
     "name": "stdout",
     "output_type": "stream",
     "text": [
      "[1, 2, 3]\n",
      "2.0\n",
      "0.6666666666666666\n"
     ]
    }
   ],
   "source": [
    "class myList:\n",
    "    def __init__(self,list):\n",
    "        self.list = list\n",
    "    \n",
    "    def mean(self):\n",
    "        return sum(self.list)/len(self.list)\n",
    "    def var(self):\n",
    "        return sum([(x-self.mean())**2 for x in self.list])/len(self.list)\n",
    "    \n",
    "mylist = myList([1,2,3])\n",
    "print(mylist.list)\n",
    "print(mylist.mean())\n",
    "print(mylist.var())"
   ]
  },
  {
   "cell_type": "code",
   "execution_count": 26,
   "metadata": {},
   "outputs": [
    {
     "name": "stdout",
     "output_type": "stream",
     "text": [
      "{'a': 1, 'b': 2, 'c': 3}\n",
      "('a', 'b', 'c') (1, 2, 3)\n"
     ]
    }
   ],
   "source": [
    "kl = [\"a\",\"b\",\"c\"]\n",
    "vl = [1,2,3]\n",
    "bakal = [3,4,5]\n",
    "mydict = dict(zip(kl,vl))\n",
    "print(mydict)\n",
    "dic2 = zip(kl,vl)\n",
    "\n",
    "kl2,vl2 = zip(*mydict.items())\n",
    "print(kl2,vl2)\n"
   ]
  },
  {
   "cell_type": "code",
   "execution_count": 29,
   "metadata": {},
   "outputs": [
    {
     "name": "stdout",
     "output_type": "stream",
     "text": [
      "(0.2000000000000008, -0.08639999999999998)\n"
     ]
    }
   ],
   "source": [
    "def find_min_fun(fun,a,b):\n",
    "    if(a>b):\n",
    "        a,b = b,a\n",
    "    step = 0.01\n",
    "    x = a\n",
    "    min = fun(x)\n",
    "    argmin = x\n",
    "    while(x < b):\n",
    "        v = fun(x)\n",
    "        if (v < min):\n",
    "            min = v\n",
    "            argmin = x\n",
    "        x += step\n",
    "    return argmin,min\n",
    "\n",
    "def niji(x):\n",
    "    return x*(x-1)*(x-2)*(x-0.5)\n",
    "\n",
    "print(find_min_fun(niji,-1.0,1.0))"
   ]
  },
  {
   "cell_type": "code",
   "execution_count": null,
   "metadata": {},
   "outputs": [],
   "source": []
  }
 ],
 "metadata": {
  "kernelspec": {
   "display_name": "Python 3",
   "language": "python",
   "name": "python3"
  },
  "language_info": {
   "codemirror_mode": {
    "name": "ipython",
    "version": 3
   },
   "file_extension": ".py",
   "mimetype": "text/x-python",
   "name": "python",
   "nbconvert_exporter": "python",
   "pygments_lexer": "ipython3",
   "version": "3.6.5"
  }
 },
 "nbformat": 4,
 "nbformat_minor": 2
}
