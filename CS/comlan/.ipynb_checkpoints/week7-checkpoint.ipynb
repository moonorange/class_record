{
 "cells": [
  {
   "cell_type": "markdown",
   "metadata": {},
   "source": [
    "10月26日　コンピュータ言語授業"
   ]
  },
  {
   "cell_type": "markdown",
   "metadata": {},
   "source": [
    "# 学習メモ"
   ]
  },
  {
   "cell_type": "code",
   "execution_count": null,
   "metadata": {},
   "outputs": [],
   "source": [
    "・回帰　ある属性で別の属性値を推定すること\n",
    "・線形回帰　一次式\n",
    "・回帰残渣を最小にするのが目標\n",
    "・定常時系列　時刻で分布に変化が出ないこと\n",
    "・相関係数は定常時系列を仮定して出す意味がある\n",
    "・今の時刻から次の時刻を回帰するのが自己回帰モデル\n",
    "・自己回帰モデルの自己相関係数はxtと（xt-1)の相関件数\n"
   ]
  },
  {
   "cell_type": "code",
   "execution_count": 2,
   "metadata": {},
   "outputs": [],
   "source": [
    "import numpy as np\n",
    "import pandas as pd\n",
    "import matplotlib.pyplot as plt\n",
    "%matplotlib inline\n",
    "import seaborn as sns\n",
    "import warnings\n",
    "import xgboost as xgb\n",
    "warnings.filterwarnings('ignore')\n",
    " \n",
    "from sklearn.model_selection import train_test_split\n",
    "from sklearn import linear_model\n",
    "from sklearn.model_selection import GridSearchCV\n",
    "pd.set_option(\"max_columns\", 100)\n",
    "pd.set_option('max_rows',1000)\n",
    "pd.set_option('max_info_columns',100)"
   ]
  },
  {
   "cell_type": "code",
   "execution_count": 5,
   "metadata": {},
   "outputs": [
    {
     "name": "stdout",
     "output_type": "stream",
     "text": [
      "Collecting tqdm\n",
      "\u001b[?25l  Downloading https://files.pythonhosted.org/packages/91/55/8cb23a97301b177e9c8e3226dba45bb454411de2cbd25746763267f226c2/tqdm-4.28.1-py2.py3-none-any.whl (45kB)\n",
      "\u001b[K    100% |████████████████████████████████| 51kB 3.6MB/s ta 0:00:01\n",
      "\u001b[?25hInstalling collected packages: tqdm\n",
      "Successfully installed tqdm-4.28.1\n"
     ]
    }
   ],
   "source": [
    "!pip install tqdm"
   ]
  },
  {
   "cell_type": "code",
   "execution_count": 6,
   "metadata": {},
   "outputs": [],
   "source": [
    "from tqdm import tqdm_notebook as tqdm"
   ]
  },
  {
   "cell_type": "code",
   "execution_count": 130,
   "metadata": {},
   "outputs": [],
   "source": [
    "ts7 = np.array([1,2,3,4,5,6])"
   ]
  },
  {
   "cell_type": "code",
   "execution_count": 131,
   "metadata": {},
   "outputs": [
    {
     "name": "stdout",
     "output_type": "stream",
     "text": [
      "6\n"
     ]
    }
   ],
   "source": [
    "lag = 1\n",
    "tslen = len(ts7)\n",
    "print(tslen)\n",
    "xvec = ts7[0:tslen-lag]\n",
    "yvec = ts7[lag:tslen]\n",
    "xdevvec = xvec-xvec.mean()\n",
    "ydevvec = yvec-yvec.mean()\n",
    "cov = xdevvec.dot(ydevvec)/(tslen-1)\n",
    "rho1 =cov/(xdevvec.std()*ydevvec.std())\n",
    "rho1ver2 = np.corrcoef(ts7[0:tslen-lag],ts7[lag:tslen])[0][1] #２行２列の行列の左上だけとる"
   ]
  },
  {
   "cell_type": "code",
   "execution_count": 132,
   "metadata": {},
   "outputs": [
    {
     "data": {
      "text/plain": [
       "0.9999999999999998"
      ]
     },
     "execution_count": 132,
     "metadata": {},
     "output_type": "execute_result"
    }
   ],
   "source": [
    "rho1"
   ]
  },
  {
   "cell_type": "code",
   "execution_count": 133,
   "metadata": {},
   "outputs": [
    {
     "ename": "IndexError",
     "evalue": "invalid index to scalar variable.",
     "output_type": "error",
     "traceback": [
      "\u001b[0;31m---------------------------------------------------------------------------\u001b[0m",
      "\u001b[0;31mIndexError\u001b[0m                                Traceback (most recent call last)",
      "\u001b[0;32m<ipython-input-133-9b51e71f6072>\u001b[0m in \u001b[0;36m<module>\u001b[0;34m()\u001b[0m\n\u001b[1;32m      1\u001b[0m \u001b[0;32mfor\u001b[0m \u001b[0mlag\u001b[0m \u001b[0;32min\u001b[0m \u001b[0mrange\u001b[0m\u001b[0;34m(\u001b[0m\u001b[0;36m26\u001b[0m\u001b[0;34m)\u001b[0m\u001b[0;34m:\u001b[0m\u001b[0;34m\u001b[0m\u001b[0m\n\u001b[0;32m----> 2\u001b[0;31m     \u001b[0mrho1\u001b[0m \u001b[0;34m=\u001b[0m \u001b[0mnp\u001b[0m\u001b[0;34m.\u001b[0m\u001b[0mcorrcoef\u001b[0m\u001b[0;34m(\u001b[0m\u001b[0mts7\u001b[0m\u001b[0;34m[\u001b[0m\u001b[0;36m0\u001b[0m\u001b[0;34m:\u001b[0m\u001b[0mtslen\u001b[0m\u001b[0;34m-\u001b[0m\u001b[0mlag\u001b[0m\u001b[0;34m]\u001b[0m\u001b[0;34m,\u001b[0m \u001b[0mts7\u001b[0m\u001b[0;34m[\u001b[0m\u001b[0mlag\u001b[0m\u001b[0;34m:\u001b[0m\u001b[0mtslen\u001b[0m\u001b[0;34m]\u001b[0m\u001b[0;34m[\u001b[0m\u001b[0;36m0\u001b[0m\u001b[0;34m]\u001b[0m\u001b[0;34m[\u001b[0m\u001b[0;36m1\u001b[0m\u001b[0;34m]\u001b[0m\u001b[0;34m)\u001b[0m\u001b[0;34m\u001b[0m\u001b[0m\n\u001b[0m",
      "\u001b[0;31mIndexError\u001b[0m: invalid index to scalar variable."
     ]
    }
   ],
   "source": [
    "for lag in range(26):\n",
    "    rho1 = np.corrcoef(ts7[0:tslen-lag], ts7[lag:tslen][0][1])"
   ]
  },
  {
   "cell_type": "code",
   "execution_count": 134,
   "metadata": {},
   "outputs": [
    {
     "data": {
      "text/plain": [
       "array([[1., 1.],\n",
       "       [1., 1.]])"
      ]
     },
     "execution_count": 134,
     "metadata": {},
     "output_type": "execute_result"
    }
   ],
   "source": [
    "np.corrcoef(ts7[0:tslen-lag],ts7[lag:tslen])"
   ]
  },
  {
   "cell_type": "code",
   "execution_count": 17,
   "metadata": {},
   "outputs": [
    {
     "name": "stdout",
     "output_type": "stream",
     "text": [
      "[-2. -1.  0.  1.  2.]\n",
      "[-2. -1.  0.  1.  2.]\n"
     ]
    }
   ],
   "source": [
    "xdevvec = xvec-xvec.mean()\n",
    "ydevvec = yvec-yvec.mean()\n",
    "print(xdevvec)\n",
    "print(ydevvec)"
   ]
  },
  {
   "cell_type": "code",
   "execution_count": 18,
   "metadata": {},
   "outputs": [
    {
     "name": "stdout",
     "output_type": "stream",
     "text": [
      "2.0\n"
     ]
    }
   ],
   "source": [
    "print(cov)"
   ]
  },
  {
   "cell_type": "code",
   "execution_count": 120,
   "metadata": {},
   "outputs": [],
   "source": []
  },
  {
   "cell_type": "code",
   "execution_count": 73,
   "metadata": {},
   "outputs": [
    {
     "name": "stdout",
     "output_type": "stream",
     "text": [
      "[ 0.         -4.66888802  1.59396894  4.07553885  6.08543859  2.64062009\n",
      "  1.2827888   0.93315014 -0.80281971 -0.80599685 -0.98999554 -1.20779249\n",
      " -3.0660186  -4.16017481 -1.07740826 -0.80453259  1.42119527  3.33242433\n",
      "  0.48247084  0.17070919 -3.28785803 -4.77790612 -3.66295499 -2.10104455\n",
      " -1.97815916  0.24251713 -0.02432449  0.63883508  1.74630566  2.28488407\n",
      "  2.47745872 -1.71443062 -1.25993739 -0.94679488 -0.09105049 -4.06823792\n",
      "  0.94991714 -0.99391643  4.11305363  1.8331009   2.68385792  3.76020283\n",
      "  0.84374786  2.96763028  0.95683449 -0.1988117  -3.76362377 -5.70744067\n",
      " -7.51167611 -5.76255773 -2.55197459 -1.72611217  0.97552101  1.98284997\n",
      "  1.38202155 -0.97022762 -4.4136221  -7.23033826 -2.94401626 -2.23176955\n",
      "  0.85615224  0.95121693  1.3597485   2.7969223   0.47496831 -1.8915654\n",
      " -1.98298137 -2.38045172 -1.90814677  0.24046475  0.290926   -0.2295634\n",
      "  0.22659485  1.22363965  1.68536814  2.5659099   1.89973632  2.75130583\n",
      "  1.16668742  2.63729036  0.64436308  5.41700848  8.04511616  4.62373076\n",
      "  5.62156036  2.68289412 -0.86363304 -0.818515   -0.83986183 -3.37540629\n",
      " -3.74487816 -0.33060466  3.0556269  -0.55504864  1.32547764  3.07546377\n",
      "  3.17384911  4.13438243  2.59742915  1.70306734]\n"
     ]
    }
   ],
   "source": [
    "print(ts7)"
   ]
  },
  {
   "cell_type": "code",
   "execution_count": 117,
   "metadata": {},
   "outputs": [],
   "source": []
  },
  {
   "cell_type": "code",
   "execution_count": 108,
   "metadata": {},
   "outputs": [
    {
     "name": "stdout",
     "output_type": "stream",
     "text": [
      "[1.0, 0.6913721883387566, 0.44078189996061046, 0.13229298723750985, -0.09028271824635123, -0.22302762850005733, -0.2507929190626818, -0.152870475974372, -0.05035721630315227, 0.08075703234952834, 0.1745870350571928, 0.2334361055954945, 0.19203647942493077, 0.17521436485951378, 0.06920751773437223, -0.029541082628178488, -0.17076351901693093, -0.2211006786819057, -0.22283162264871811, -0.1042479158156148, 0.006289847960187607, 0.09765818641971798, 0.18585362250900608, 0.13534983033980671, 0.08689340833951464, -0.023307696495037337]\n"
     ]
    }
   ],
   "source": [
    "len(rho)\n",
    "print(rho)"
   ]
  },
  {
   "cell_type": "code",
   "execution_count": null,
   "metadata": {},
   "outputs": [],
   "source": []
  },
  {
   "cell_type": "code",
   "execution_count": null,
   "metadata": {},
   "outputs": [],
   "source": []
  },
  {
   "cell_type": "markdown",
   "metadata": {},
   "source": [
    "# 演習問題"
   ]
  },
  {
   "cell_type": "code",
   "execution_count": 357,
   "metadata": {},
   "outputs": [
    {
     "data": {
      "text/plain": [
       "(100,)"
      ]
     },
     "execution_count": 357,
     "metadata": {},
     "output_type": "execute_result"
    }
   ],
   "source": [
    "ts7 = np.loadtxt(\"week7ar.csv\",delimiter=\",\")\n",
    "ts7.shape"
   ]
  },
  {
   "cell_type": "code",
   "execution_count": 233,
   "metadata": {},
   "outputs": [],
   "source": [
    "lag = []\n",
    "for i in range(0,26):\n",
    "    lag.append(i)"
   ]
  },
  {
   "cell_type": "code",
   "execution_count": 234,
   "metadata": {},
   "outputs": [],
   "source": [
    "import statsmodels.api as sm \n",
    "\n",
    "rho = sm.tsa.stattools.acf(ts7, nlags=25) "
   ]
  },
  {
   "cell_type": "code",
   "execution_count": 372,
   "metadata": {},
   "outputs": [
    {
     "data": {
      "text/plain": [
       "(26,)"
      ]
     },
     "execution_count": 372,
     "metadata": {},
     "output_type": "execute_result"
    }
   ],
   "source": [
    "rho.shape"
   ]
  },
  {
   "cell_type": "code",
   "execution_count": 235,
   "metadata": {},
   "outputs": [
    {
     "data": {
      "text/plain": [
       "[<matplotlib.lines.Line2D at 0x1a134532e8>]"
      ]
     },
     "execution_count": 235,
     "metadata": {},
     "output_type": "execute_result"
    },
    {
     "data": {
      "image/png": "[encoded data removed]",
      "text/plain": [
       "<matplotlib.figure.Figure at 0x1a13c7c4a8>"
      ]
     },
     "metadata": {},
     "output_type": "display_data"
    }
   ],
   "source": [
    "plt.plot(lag, rho)"
   ]
  },
  {
   "cell_type": "markdown",
   "metadata": {},
   "source": [
    "lagが5ずつで相関係数が上がり下がりする"
   ]
  },
  {
   "cell_type": "code",
   "execution_count": null,
   "metadata": {},
   "outputs": [],
   "source": []
  },
  {
   "cell_type": "code",
   "execution_count": 236,
   "metadata": {},
   "outputs": [
    {
     "data": {
      "text/plain": [
       "100"
      ]
     },
     "execution_count": 236,
     "metadata": {},
     "output_type": "execute_result"
    }
   ],
   "source": [
    "tslen = len(ts7)\n",
    "tslen"
   ]
  },
  {
   "cell_type": "code",
   "execution_count": null,
   "metadata": {},
   "outputs": [],
   "source": []
  },
  {
   "cell_type": "code",
   "execution_count": 237,
   "metadata": {},
   "outputs": [
    {
     "name": "stdout",
     "output_type": "stream",
     "text": [
      "0.6913721883387566\n"
     ]
    }
   ],
   "source": [
    "a = np.corrcoef(ts7[1:tslen],ts7[0:tslen-1])[0][1]\n",
    "print(np.corrcoef(ts7[1:tslen],ts7[0:tslen-1])[0][1])"
   ]
  },
  {
   "cell_type": "code",
   "execution_count": null,
   "metadata": {},
   "outputs": [],
   "source": []
  },
  {
   "cell_type": "code",
   "execution_count": 304,
   "metadata": {},
   "outputs": [],
   "source": [
    "xt_1 = []\n",
    "for i in range(0,tslen):\n",
    "    xt_1.append(ts7[i]*a)"
   ]
  },
  {
   "cell_type": "code",
   "execution_count": 305,
   "metadata": {},
   "outputs": [
    {
     "data": {
      "text/plain": [
       "100"
      ]
     },
     "execution_count": 305,
     "metadata": {},
     "output_type": "execute_result"
    }
   ],
   "source": [
    "len(xt_1)"
   ]
  },
  {
   "cell_type": "code",
   "execution_count": 306,
   "metadata": {},
   "outputs": [
    {
     "name": "stdout",
     "output_type": "stream",
     "text": [
      "[0.0, -3.227939329679387, 1.102025797526876, 2.8177142167237568, 4.207302992558953, 1.8256512906483309, 0.8868844990514051, 0.6451540515322575, -0.5550472195145643, -0.5572438061137284, -0.6844553839594403, -0.8350341393332444, -2.119759990572408, -2.876229163281623, -0.7448901044958366, -0.5562314597325247, 0.9825748872451219, 2.303945499378422, 0.33356692198844934, 0.11802358577435895, -2.273133598133906, -3.3033114107663577, -2.5324652060611803, -1.4526037689504434, -1.3676442251548295, 0.1676695963590232, -0.01681727446286377, 0.4416728100229928, 1.2073471641408322, 1.5797052974816024, 1.712846053452834, -1.1853096460776622, -0.8710856687261932, -0.6545876454362776, -0.06294977451117163, -2.8126665556069668, 0.6567462950958366, -0.6871661800426307, 2.843650887205368, 1.267354983400854, 1.8555447239090588, 2.599699660483311, 0.58334380754479, 2.051737040757428, 0.661528756667539, -0.13745287781283136, -2.6020648048358357, -3.945965746705576, -5.1933639486729675, -3.984072147466468, -1.764364256268237, -1.193385948677735, 0.6744480932953915, 1.37088731993395, 0.9554912630196107, -0.6707883916604485, -3.0514555699628643, -4.998854787319127, -2.035410962981217, -1.5429833988446595, 0.5919198462274532, 0.6576449337295208, 0.9400922939564027, 1.9337142887341388, 0.32837987907097405, -1.3077757098802307, -1.370978166868814, -1.6457781166359189, -1.3192396109327598, 0.16625063772146376, 0.20113814571493502, -0.15871375169504784, 0.15666137418102596, 0.845990421479898, 1.165216655751999, 1.7739987420881436, 1.3134248578063108, 1.902176332787106, 0.8066152350900279, 1.82334920688509, 0.44549471439180355, 3.745169007632244, 5.562169566853734, 3.1967188532821598, 3.8865904911902156, 1.8548783773259, -0.5970918639152483, -0.5658985091468915, -0.5806571131411041, -2.3336620314486236, -2.5891046088707483, -0.22857086689409895, 2.112575459791862, -0.38374518983594225, 0.916398376893791, 2.126290116261287, 2.19431100354718, 2.858397029452354, 1.7957902726267596, 1.1774533926537558]\n"
     ]
    }
   ],
   "source": [
    "print(xt_1)"
   ]
  },
  {
   "cell_type": "code",
   "execution_count": 312,
   "metadata": {},
   "outputs": [],
   "source": [
    "diff = []\n",
    "for i in range(0,tslen):\n",
    "    diff.append((xt_1[i] - ts7[i])**2)\n",
    "diff_sum = sum(diff)"
   ]
  },
  {
   "cell_type": "code",
   "execution_count": 313,
   "metadata": {},
   "outputs": [
    {
     "data": {
      "text/plain": [
       "77.8521089757165"
      ]
     },
     "execution_count": 313,
     "metadata": {},
     "output_type": "execute_result"
    }
   ],
   "source": [
    "diff_sum"
   ]
  },
  {
   "cell_type": "code",
   "execution_count": 337,
   "metadata": {},
   "outputs": [],
   "source": [
    "xt_0 = []\n",
    "xt_1 = []\n",
    "xt_2 = []\n",
    "diff_0 = []\n",
    "diff_1 = []\n",
    "diff_2 = []\n",
    "for i in range(0,tslen):\n",
    "    xt_0.append(ts7[i]*0)\n",
    "    xt_1.append(ts7[i]*1)\n",
    "    xt_2.append(ts7[i]*2)\n",
    "    diff_0.append((xt_0[i] - ts7[i])**2)\n",
    "    diff_1.append((xt_1[i] - ts7[i])**2)\n",
    "    diff_2.append((xt_2[i] - ts7[i])**2)\n",
    "\n",
    "diff_sum0 = sum(diff_0)\n",
    "diff_sum1 = sum(diff_1)     \n",
    "diff_sum2 = sum(diff_2)         "
   ]
  },
  {
   "cell_type": "code",
   "execution_count": 339,
   "metadata": {},
   "outputs": [
    {
     "name": "stdout",
     "output_type": "stream",
     "text": [
      "817.3353128529164\n",
      "0.0\n",
      "817.3353128529164\n"
     ]
    }
   ],
   "source": [
    "print(diff_sum0)\n",
    "print(diff_sum1)\n",
    "print(diff_sum2)\n"
   ]
  },
  {
   "cell_type": "code",
   "execution_count": 346,
   "metadata": {},
   "outputs": [
    {
     "data": {
      "text/plain": [
       "[<matplotlib.lines.Line2D at 0x1c14169a20>]"
      ]
     },
     "execution_count": 346,
     "metadata": {},
     "output_type": "execute_result"
    },
    {
     "data": {
      "image/png": "[encoded data removed]",
      "text/plain": [
       "<matplotlib.figure.Figure at 0x1c1401b8d0>"
      ]
     },
     "metadata": {},
     "output_type": "display_data"
    }
   ],
   "source": [
    "plt.plot(xt_0)"
   ]
  },
  {
   "cell_type": "code",
   "execution_count": 345,
   "metadata": {},
   "outputs": [
    {
     "data": {
      "text/plain": [
       "[<matplotlib.lines.Line2D at 0x102525358>]"
      ]
     },
     "execution_count": 345,
     "metadata": {},
     "output_type": "execute_result"
    },
    {
     "data": {
      "image/png": "[encoded data removed]",
      "text/plain": [
       "<matplotlib.figure.Figure at 0x1c13ff0160>"
      ]
     },
     "metadata": {},
     "output_type": "display_data"
    }
   ],
   "source": [
    "plt.plot(xt_2)"
   ]
  },
  {
   "cell_type": "code",
   "execution_count": 385,
   "metadata": {},
   "outputs": [
    {
     "data": {
      "text/plain": [
       "(816, 2)"
      ]
     },
     "execution_count": 385,
     "metadata": {},
     "output_type": "execute_result"
    }
   ],
   "source": [
    "ts0= np.loadtxt(\"tokyo_monthly_average_max_1950_2017.csv\",delimiter=\",\" ,usecols=(1,2))\n",
    "ts0.shape"
   ]
  },
  {
   "cell_type": "code",
   "execution_count": 386,
   "metadata": {},
   "outputs": [
    {
     "name": "stdout",
     "output_type": "stream",
     "text": [
      "[[ 5.  19.8]\n",
      " [ 4.7 21.4]\n",
      " [ 7.7 19.1]\n",
      " ...\n",
      " [16.8 29. ]\n",
      " [11.9 21.9]\n",
      " [ 6.6 16. ]]\n"
     ]
    }
   ],
   "source": [
    "print(ts0)"
   ]
  },
  {
   "cell_type": "code",
   "execution_count": null,
   "metadata": {},
   "outputs": [],
   "source": []
  },
  {
   "cell_type": "code",
   "execution_count": 388,
   "metadata": {},
   "outputs": [],
   "source": [
    "import statsmodels.api as sm \n",
    "\n",
    "autocorr = sm.tsa.stattools.acf(ts0[:,1], nlags=25) "
   ]
  },
  {
   "cell_type": "code",
   "execution_count": 371,
   "metadata": {},
   "outputs": [],
   "source": [
    "lag = []\n",
    "for i in range(0,26):\n",
    "    lag.append(i)"
   ]
  },
  {
   "cell_type": "code",
   "execution_count": 390,
   "metadata": {},
   "outputs": [
    {
     "data": {
      "text/plain": [
       "(26,)"
      ]
     },
     "execution_count": 390,
     "metadata": {},
     "output_type": "execute_result"
    }
   ],
   "source": [
    "autocorr.shape"
   ]
  },
  {
   "cell_type": "code",
   "execution_count": 389,
   "metadata": {},
   "outputs": [
    {
     "data": {
      "text/plain": [
       "[<matplotlib.lines.Line2D at 0x1c14535320>]"
      ]
     },
     "execution_count": 389,
     "metadata": {},
     "output_type": "execute_result"
    },
    {
     "data": {
      "image/png": "[encoded data removed]",
      "text/plain": [
       "<matplotlib.figure.Figure at 0x1c145dbba8>"
      ]
     },
     "metadata": {},
     "output_type": "display_data"
    }
   ],
   "source": [
    "plt.plot(lag, autocorr)"
   ]
  },
  {
   "cell_type": "code",
   "execution_count": 392,
   "metadata": {},
   "outputs": [
    {
     "name": "stdout",
     "output_type": "stream",
     "text": [
      "0.9999999999999998\n"
     ]
    }
   ],
   "source": [
    "print(np.corrcoef(ts0[12:tslen],ts0[0:tslen-12])[0][1])"
   ]
  },
  {
   "cell_type": "code",
   "execution_count": 405,
   "metadata": {},
   "outputs": [],
   "source": [
    "ts0= pd.read_csv(\"tokyo_monthly_average_max_1950_2017.csv\", header=None)"
   ]
  },
  {
   "cell_type": "code",
   "execution_count": 414,
   "metadata": {},
   "outputs": [],
   "source": [
    "data = ts0[2]"
   ]
  },
  {
   "cell_type": "code",
   "execution_count": 419,
   "metadata": {},
   "outputs": [
    {
     "data": {
      "text/plain": [
       "0      19.8\n",
       "1      21.4\n",
       "2      19.1\n",
       "3      24.4\n",
       "4      29.1\n",
       "5      32.2\n",
       "6      34.2\n",
       "7      34.2\n",
       "8      33.9\n",
       "9      28.9\n",
       "10     23.6\n",
       "11     15.5\n",
       "12     14.4\n",
       "13     18.0\n",
       "14     19.6\n",
       "15     26.4\n",
       "16     29.2\n",
       "17     30.3\n",
       "18     34.8\n",
       "19     36.4\n",
       "20     30.4\n",
       "21     27.2\n",
       "22     23.5\n",
       "23     18.9\n",
       "24     17.7\n",
       "25     12.5\n",
       "26     19.2\n",
       "27     27.0\n",
       "28     27.1\n",
       "29     30.4\n",
       "30     32.7\n",
       "31     34.5\n",
       "32     34.3\n",
       "33     28.8\n",
       "34     23.4\n",
       "35     15.6\n",
       "36     15.0\n",
       "37     19.5\n",
       "38     20.1\n",
       "39     24.6\n",
       "40     27.6\n",
       "41     30.7\n",
       "42     33.3\n",
       "43     38.4\n",
       "44     31.9\n",
       "45     24.9\n",
       "46     24.9\n",
       "47     20.0\n",
       "48     14.1\n",
       "49     21.4\n",
       "50     22.3\n",
       "51     25.4\n",
       "52     28.0\n",
       "53     27.1\n",
       "54     31.6\n",
       "55     36.3\n",
       "56     32.1\n",
       "57     24.7\n",
       "58     22.1\n",
       "59     20.1\n",
       "60     14.3\n",
       "61     18.8\n",
       "62     22.5\n",
       "63     24.9\n",
       "64     27.7\n",
       "65     32.0\n",
       "66     34.7\n",
       "67     35.4\n",
       "68     31.6\n",
       "69     28.7\n",
       "70     21.2\n",
       "71     20.7\n",
       "72     15.0\n",
       "73     20.5\n",
       "74     22.3\n",
       "75     27.2\n",
       "76     30.4\n",
       "77     31.5\n",
       "78     33.1\n",
       "79     35.5\n",
       "80     32.2\n",
       "81     26.8\n",
       "82     22.8\n",
       "83     18.5\n",
       "84     20.2\n",
       "85     13.4\n",
       "86     20.4\n",
       "87     26.0\n",
       "88     26.3\n",
       "89     28.8\n",
       "90     33.9\n",
       "91     34.9\n",
       "92     31.3\n",
       "93     25.8\n",
       "94     23.4\n",
       "95     22.7\n",
       "96     15.5\n",
       "97     22.1\n",
       "98     20.6\n",
       "99     25.7\n",
       "100    31.4\n",
       "101    33.2\n",
       "102    32.8\n",
       "103    33.6\n",
       "104    34.4\n",
       "105    28.4\n",
       "106    23.6\n",
       "107    17.8\n",
       "108    16.9\n",
       "109    22.2\n",
       "110    21.6\n",
       "111    27.1\n",
       "112    31.0\n",
       "113    27.7\n",
       "114    34.5\n",
       "115    35.0\n",
       "116    36.4\n",
       "117    29.2\n",
       "118    23.1\n",
       "119    18.4\n",
       "120    21.0\n",
       "121    19.5\n",
       "122    24.0\n",
       "123    23.6\n",
       "124    27.4\n",
       "125    31.5\n",
       "126    33.7\n",
       "127    34.7\n",
       "128    32.7\n",
       "129    27.9\n",
       "130    22.8\n",
       "131    20.1\n",
       "132    15.1\n",
       "133    13.7\n",
       "134    21.9\n",
       "135    26.0\n",
       "136    30.4\n",
       "137    30.1\n",
       "138    37.5\n",
       "139    35.0\n",
       "140    35.0\n",
       "141    29.8\n",
       "142    23.1\n",
       "143    19.2\n",
       "144    13.8\n",
       "145    24.5\n",
       "146    18.8\n",
       "147    24.5\n",
       "148    28.9\n",
       "149    29.2\n",
       "150    34.1\n",
       "151    37.6\n",
       "152    32.9\n",
       "153    29.5\n",
       "154    25.6\n",
       "155    16.3\n",
       "156    12.7\n",
       "157    15.3\n",
       "158    20.5\n",
       "159    26.9\n",
       "160    31.2\n",
       "161    35.7\n",
       "162    35.5\n",
       "163    37.2\n",
       "164    30.6\n",
       "165    27.0\n",
       "166    23.1\n",
       "167    18.7\n",
       "168    18.7\n",
       "169    12.6\n",
       "170    21.3\n",
       "171    26.3\n",
       "172    31.4\n",
       "173    30.5\n",
       "174    34.0\n",
       "175    35.2\n",
       "176    32.4\n",
       "177    26.0\n",
       "178    21.5\n",
       "179    15.0\n",
       "180    12.9\n",
       "181    18.3\n",
       "182    16.4\n",
       "183    25.1\n",
       "184    26.6\n",
       "185    31.2\n",
       "186    33.6\n",
       "187    35.0\n",
       "188    29.9\n",
       "189    26.8\n",
       "190    24.9\n",
       "191    17.6\n",
       "192    17.2\n",
       "193    19.1\n",
       "194    21.6\n",
       "195    26.4\n",
       "196    27.5\n",
       "197    30.5\n",
       "198    33.0\n",
       "199    34.9\n",
       "200    32.8\n",
       "201    26.7\n",
       "202    24.9\n",
       "203    15.3\n",
       "204    15.4\n",
       "205    19.1\n",
       "206    23.3\n",
       "207    24.2\n",
       "208    30.4\n",
       "209    30.9\n",
       "210    34.1\n",
       "211    37.2\n",
       "212    31.3\n",
       "213    26.0\n",
       "214    24.1\n",
       "215    16.2\n",
       "216    16.2\n",
       "217    15.5\n",
       "218    20.5\n",
       "219    23.4\n",
       "220    25.5\n",
       "221    30.0\n",
       "222    32.3\n",
       "223    33.5\n",
       "224    28.9\n",
       "225    27.2\n",
       "226    23.4\n",
       "227    20.1\n",
       "228    22.6\n",
       "229    19.1\n",
       "230    21.9\n",
       "231    27.2\n",
       "232    30.3\n",
       "233    29.3\n",
       "234    36.6\n",
       "235    35.8\n",
       "236    33.2\n",
       "237    26.1\n",
       "238    24.2\n",
       "239    19.7\n",
       "240    14.2\n",
       "241    17.7\n",
       "242    16.5\n",
       "243    24.1\n",
       "244    30.0\n",
       "245    31.0\n",
       "246    34.9\n",
       "247    35.5\n",
       "248    35.4\n",
       "249    26.1\n",
       "250    23.4\n",
       "251    20.5\n",
       "252    13.5\n",
       "253    16.2\n",
       "254    20.4\n",
       "255    25.9\n",
       "256    28.8\n",
       "257    30.7\n",
       "258    33.7\n",
       "259    34.4\n",
       "260    30.8\n",
       "261    24.1\n",
       "262    21.3\n",
       "263    19.3\n",
       "264    16.8\n",
       "265    14.6\n",
       "266    24.1\n",
       "267    25.5\n",
       "268    26.7\n",
       "269    31.2\n",
       "270    32.1\n",
       "271    35.2\n",
       "272    31.6\n",
       "273    26.2\n",
       "274    22.9\n",
       "275    16.9\n",
       "276    17.3\n",
       "277    18.0\n",
       "278    22.4\n",
       "279    26.6\n",
       "280    27.5\n",
       "281    27.8\n",
       "282    34.7\n",
       "283    34.3\n",
       "284    34.5\n",
       "285    28.2\n",
       "286    22.0\n",
       "287    16.4\n",
       "288    13.6\n",
       "289    18.1\n",
       "290    20.1\n",
       "291    23.8\n",
       "292    29.5\n",
       "293    28.9\n",
       "294    34.2\n",
       "295    34.2\n",
       "296    32.3\n",
       "297    26.1\n",
       "298    22.3\n",
       "299    15.7\n",
       "300    17.6\n",
       "301    15.0\n",
       "302    18.6\n",
       "303    24.0\n",
       "304    28.3\n",
       "305    29.5\n",
       "306    35.6\n",
       "307    35.5\n",
       "308    34.1\n",
       "309    27.9\n",
       "310    25.1\n",
       "311    15.3\n",
       "312    18.6\n",
       "313    18.3\n",
       "314    19.1\n",
       "315    23.7\n",
       "316    28.2\n",
       "317    29.3\n",
       "318    33.4\n",
       "319    35.4\n",
       "320    31.6\n",
       "321    26.9\n",
       "322    24.1\n",
       "323    15.2\n",
       "324    17.9\n",
       "325    20.3\n",
       "326    20.1\n",
       "327    25.8\n",
       "328    30.5\n",
       "329    29.5\n",
       "330    33.6\n",
       "331    34.9\n",
       "332    32.3\n",
       "333    27.6\n",
       "334    26.7\n",
       "335    22.0\n",
       "336    16.3\n",
       "337    15.7\n",
       "338    18.8\n",
       "339    24.5\n",
       "340    26.0\n",
       "341    31.6\n",
       "342    33.6\n",
       "343    36.3\n",
       "344    33.1\n",
       "345    26.6\n",
       "346    22.1\n",
       "347    18.9\n",
       "348    16.6\n",
       "349    19.9\n",
       "350    22.8\n",
       "351    24.0\n",
       "352    27.9\n",
       "353    34.1\n",
       "354    34.3\n",
       "355    33.5\n",
       "356    32.7\n",
       "357    32.6\n",
       "358    25.3\n",
       "359    18.7\n",
       "360    18.8\n",
       "361    13.3\n",
       "362    21.2\n",
       "363    24.0\n",
       "364    29.5\n",
       "365    31.6\n",
       "366    33.0\n",
       "367    32.2\n",
       "368    31.9\n",
       "369    28.8\n",
       "370    21.8\n",
       "371    19.3\n",
       "372    12.0\n",
       "373    17.2\n",
       "374    20.6\n",
       "375    23.9\n",
       "376    28.4\n",
       "377    32.0\n",
       "378    34.3\n",
       "379    33.9\n",
       "380    31.6\n",
       "381    26.7\n",
       "382    21.4\n",
       "383    16.2\n",
       "384    16.8\n",
       "385    13.1\n",
       "386    21.3\n",
       "387    23.2\n",
       "388    28.7\n",
       "389    29.4\n",
       "390    31.2\n",
       "391    33.0\n",
       "392    31.3\n",
       "393    27.3\n",
       "394    25.3\n",
       "395    20.9\n",
       "396    16.5\n",
       "397    15.0\n",
       "398    17.2\n",
       "399    26.8\n",
       "400    28.5\n",
       "401    29.8\n",
       "402    32.9\n",
       "403    37.1\n",
       "404    33.3\n",
       "405    27.9\n",
       "406    21.6\n",
       "407    17.3\n",
       "408    14.6\n",
       "409    12.8\n",
       "410    19.1\n",
       "411    24.0\n",
       "412    27.7\n",
       "413    31.5\n",
       "414    33.6\n",
       "415    35.0\n",
       "416    38.1\n",
       "417    30.4\n",
       "418    22.7\n",
       "419    19.8\n",
       "420    13.5\n",
       "421    14.7\n",
       "422    20.3\n",
       "423    23.7\n",
       "424    26.5\n",
       "425    30.1\n",
       "426    34.3\n",
       "427    33.9\n",
       "428    35.0\n",
       "429    29.0\n",
       "430    24.5\n",
       "431    18.8\n",
       "432    11.8\n",
       "433    14.5\n",
       "434    18.1\n",
       "435    23.0\n",
       "436    26.9\n",
       "437    31.5\n",
       "438    33.4\n",
       "439    34.6\n",
       "440    34.5\n",
       "441    26.6\n",
       "442    21.7\n",
       "443    17.8\n",
       "444    18.0\n",
       "445    23.0\n",
       "446    20.5\n",
       "447    26.6\n",
       "448    27.9\n",
       "449    32.3\n",
       "450    37.3\n",
       "451    34.0\n",
       "452    34.8\n",
       "453    28.2\n",
       "454    25.6\n",
       "455    21.5\n",
       "456    16.9\n",
       "457    19.7\n",
       "458    21.3\n",
       "459    27.7\n",
       "460    29.2\n",
       "461    29.9\n",
       "462    32.6\n",
       "463    32.9\n",
       "464    31.2\n",
       "465    24.9\n",
       "466    22.5\n",
       "467    17.9\n",
       "468    19.2\n",
       "469    17.2\n",
       "470    20.2\n",
       "471    24.0\n",
       "472    25.4\n",
       "473    31.1\n",
       "474    31.5\n",
       "475    33.5\n",
       "476    32.3\n",
       "477    25.9\n",
       "478    22.5\n",
       "479    20.1\n",
       "480    16.3\n",
       "481    19.4\n",
       "482    21.3\n",
       "483    24.2\n",
       "484    28.4\n",
       "485    34.1\n",
       "486    34.6\n",
       "487    35.9\n",
       "488    34.0\n",
       "489    28.2\n",
       "490    25.7\n",
       "491    23.5\n",
       "492    14.4\n",
       "493    16.6\n",
       "494    22.3\n",
       "495    24.7\n",
       "496    27.9\n",
       "497    34.2\n",
       "498    35.6\n",
       "499    35.2\n",
       "500    32.2\n",
       "501    28.1\n",
       "502    19.9\n",
       "503    18.8\n",
       "504    15.1\n",
       "505    20.1\n",
       "506    21.7\n",
       "507    24.1\n",
       "508    27.8\n",
       "509    28.0\n",
       "510    34.7\n",
       "511    34.2\n",
       "512    35.2\n",
       "513    27.3\n",
       "514    22.5\n",
       "515    20.6\n",
       "516    12.9\n",
       "517    21.9\n",
       "518    18.3\n",
       "519    26.9\n",
       "520    30.7\n",
       "521    31.9\n",
       "522    32.3\n",
       "523    32.9\n",
       "524    32.1\n",
       "525    25.3\n",
       "526    24.0\n",
       "527    21.1\n",
       "528    16.8\n",
       "529    16.0\n",
       "530    18.7\n",
       "531    24.4\n",
       "532    29.3\n",
       "533    31.7\n",
       "534    35.6\n",
       "535    39.1\n",
       "536    32.9\n",
       "537    27.9\n",
       "538    23.9\n",
       "539    17.7\n",
       "540    16.1\n",
       "541    13.9\n",
       "542    19.9\n",
       "543    25.5\n",
       "544    26.7\n",
       "545    28.8\n",
       "546    35.9\n",
       "547    36.4\n",
       "548    35.8\n",
       "549    27.8\n",
       "550    23.9\n",
       "551    16.7\n",
       "552    19.9\n",
       "553    20.9\n",
       "554    23.1\n",
       "555    26.2\n",
       "556    30.5\n",
       "557    31.8\n",
       "558    34.8\n",
       "559    38.7\n",
       "560    34.5\n",
       "561    27.2\n",
       "562    24.2\n",
       "563    18.6\n",
       "564    16.4\n",
       "565    18.0\n",
       "566    25.1\n",
       "567    27.2\n",
       "568    27.9\n",
       "569    32.8\n",
       "570    37.7\n",
       "571    34.5\n",
       "572    32.9\n",
       "573    27.1\n",
       "574    24.4\n",
       "575    17.6\n",
       "576    13.6\n",
       "577    23.1\n",
       "578    24.5\n",
       "579    27.1\n",
       "580    29.3\n",
       "581    33.7\n",
       "582    36.1\n",
       "583    35.5\n",
       "584    32.8\n",
       "585    31.9\n",
       "586    25.0\n",
       "587    18.4\n",
       "588    16.4\n",
       "589    21.3\n",
       "590    20.3\n",
       "591    24.0\n",
       "592    31.9\n",
       "593    32.9\n",
       "594    34.2\n",
       "595    34.8\n",
       "596    34.2\n",
       "597    29.2\n",
       "598    23.8\n",
       "599    18.0\n",
       "600    16.9\n",
       "601    14.5\n",
       "602    19.9\n",
       "603    24.1\n",
       "604    30.0\n",
       "605    30.5\n",
       "606    34.9\n",
       "607    34.5\n",
       "608    37.8\n",
       "609    28.1\n",
       "610    23.1\n",
       "611    20.2\n",
       "612    13.8\n",
       "613    19.7\n",
       "614    22.8\n",
       "615    26.2\n",
       "616    27.5\n",
       "617    33.7\n",
       "618    38.1\n",
       "619    36.3\n",
       "620    32.6\n",
       "621    28.5\n",
       "622    21.8\n",
       "623    16.7\n",
       "624    18.1\n",
       "625    17.7\n",
       "626    23.9\n",
       "627    28.0\n",
       "628    27.5\n",
       "629    31.1\n",
       "630    34.8\n",
       "631    35.8\n",
       "632    33.9\n",
       "633    29.4\n",
       "634    20.4\n",
       "635    18.7\n",
       "636    13.8\n",
       "637    14.5\n",
       "638    20.4\n",
       "639    27.9\n",
       "640    26.9\n",
       "641    33.3\n",
       "642    31.9\n",
       "643    34.3\n",
       "644    34.3\n",
       "645    28.7\n",
       "646    24.8\n",
       "647    19.0\n",
       "648    14.2\n",
       "649    21.6\n",
       "650    21.9\n",
       "651    28.9\n",
       "652    31.7\n",
       "653    32.3\n",
       "654    39.5\n",
       "655    36.5\n",
       "656    33.6\n",
       "657    28.2\n",
       "658    23.2\n",
       "659    24.8\n",
       "660    18.5\n",
       "661    19.4\n",
       "662    19.3\n",
       "663    28.1\n",
       "664    27.2\n",
       "665    36.2\n",
       "666    35.6\n",
       "667    35.8\n",
       "668    33.1\n",
       "669    31.7\n",
       "670    24.1\n",
       "671    15.9\n",
       "672    14.7\n",
       "673    19.9\n",
       "674    19.0\n",
       "675    22.4\n",
       "676    29.4\n",
       "677    31.5\n",
       "678    36.1\n",
       "679    35.4\n",
       "680    34.8\n",
       "681    27.0\n",
       "682    24.9\n",
       "683    20.3\n",
       "684    15.0\n",
       "685    17.3\n",
       "686    24.1\n",
       "687    25.8\n",
       "688    29.0\n",
       "689    31.5\n",
       "690    32.7\n",
       "691    37.5\n",
       "692    32.9\n",
       "693    26.5\n",
       "694    21.2\n",
       "695    15.8\n",
       "696    13.9\n",
       "697    17.0\n",
       "698    20.4\n",
       "699    25.8\n",
       "700    29.0\n",
       "701    29.1\n",
       "702    34.5\n",
       "703    35.3\n",
       "704    32.3\n",
       "705    25.2\n",
       "706    22.3\n",
       "707    19.9\n",
       "708    15.3\n",
       "709    23.9\n",
       "710    23.2\n",
       "711    26.1\n",
       "712    29.3\n",
       "713    31.9\n",
       "714    34.2\n",
       "715    33.2\n",
       "716    31.5\n",
       "717    27.1\n",
       "718    25.9\n",
       "719    17.4\n",
       "720    18.0\n",
       "721    21.0\n",
       "722    21.6\n",
       "723    25.5\n",
       "724    30.9\n",
       "725    31.8\n",
       "726    36.3\n",
       "727    37.2\n",
       "728    35.9\n",
       "729    28.3\n",
       "730    22.4\n",
       "731    23.7\n",
       "732    12.2\n",
       "733    20.8\n",
       "734    20.2\n",
       "735    24.8\n",
       "736    29.6\n",
       "737    35.1\n",
       "738    34.8\n",
       "739    36.1\n",
       "740    32.5\n",
       "741    29.7\n",
       "742    22.7\n",
       "743    18.9\n",
       "744    11.1\n",
       "745    15.4\n",
       "746    19.4\n",
       "747    26.0\n",
       "748    27.2\n",
       "749    30.2\n",
       "750    35.4\n",
       "751    35.7\n",
       "752    33.8\n",
       "753    31.0\n",
       "754    21.5\n",
       "755    18.4\n",
       "756    14.4\n",
       "757    20.9\n",
       "758    25.3\n",
       "759    23.4\n",
       "760    28.5\n",
       "761    30.2\n",
       "762    35.4\n",
       "763    38.3\n",
       "764    35.7\n",
       "765    31.3\n",
       "766    21.5\n",
       "767    17.6\n",
       "768    15.9\n",
       "769    18.6\n",
       "770    22.3\n",
       "771    23.9\n",
       "772    31.6\n",
       "773    33.1\n",
       "774    35.6\n",
       "775    36.1\n",
       "776    31.6\n",
       "777    29.8\n",
       "778    22.4\n",
       "779    16.2\n",
       "780    16.4\n",
       "781    19.2\n",
       "782    23.6\n",
       "783    27.2\n",
       "784    32.2\n",
       "785    31.4\n",
       "786    35.8\n",
       "787    37.7\n",
       "788    31.5\n",
       "789    28.1\n",
       "790    23.7\n",
       "791    24.1\n",
       "792    16.2\n",
       "793    23.0\n",
       "794    21.4\n",
       "795    26.8\n",
       "796    30.9\n",
       "797    33.0\n",
       "798    36.7\n",
       "799    37.7\n",
       "800    33.0\n",
       "801    32.0\n",
       "802    20.8\n",
       "803    20.2\n",
       "804    19.5\n",
       "805    20.6\n",
       "806    18.7\n",
       "807    26.1\n",
       "808    30.9\n",
       "809    30.6\n",
       "810    35.0\n",
       "811    37.1\n",
       "812    33.3\n",
       "813    29.0\n",
       "814    21.9\n",
       "815    16.0\n",
       "Name: 2, dtype: float64"
      ]
     },
     "execution_count": 419,
     "metadata": {},
     "output_type": "execute_result"
    }
   ],
   "source": [
    "data"
   ]
  },
  {
   "cell_type": "code",
   "execution_count": 449,
   "metadata": {},
   "outputs": [],
   "source": [
    "diff = data.diff(12)"
   ]
  },
  {
   "cell_type": "code",
   "execution_count": 453,
   "metadata": {},
   "outputs": [],
   "source": [
    "diff1 = data.diff()"
   ]
  },
  {
   "cell_type": "code",
   "execution_count": null,
   "metadata": {},
   "outputs": [],
   "source": []
  },
  {
   "cell_type": "code",
   "execution_count": 421,
   "metadata": {},
   "outputs": [],
   "source": [
    "ts_acf = sm.tsa.stattools.acf(data, nlags=25)"
   ]
  },
  {
   "cell_type": "code",
   "execution_count": 439,
   "metadata": {},
   "outputs": [
    {
     "data": {
      "image/png": "[encoded data removed]",
      "text/plain": [
       "<matplotlib.figure.Figure at 0x1c14cc59b0>"
      ]
     },
     "metadata": {},
     "output_type": "display_data"
    }
   ],
   "source": [
    "fig = plt.figure(figsize=(12,8))\n",
    "ax1 = fig.add_subplot(816)\n",
    "fig = sm.graphics.tsa.plot_acf(data, lags=12, ax=ax1)"
   ]
  },
  {
   "cell_type": "code",
   "execution_count": 450,
   "metadata": {},
   "outputs": [
    {
     "data": {
      "text/plain": [
       "[<matplotlib.lines.Line2D at 0x1c1a991a20>]"
      ]
     },
     "execution_count": 450,
     "metadata": {},
     "output_type": "execute_result"
    },
    {
     "data": {
      "image/png": "[encoded data removed]",
      "text/plain": [
       "<matplotlib.figure.Figure at 0x1c14d272e8>"
      ]
     },
     "metadata": {},
     "output_type": "display_data"
    }
   ],
   "source": [
    "plt.plot(diff)"
   ]
  },
  {
   "cell_type": "code",
   "execution_count": 455,
   "metadata": {},
   "outputs": [],
   "source": [
    "difflen = len(diff)"
   ]
  },
  {
   "cell_type": "code",
   "execution_count": null,
   "metadata": {},
   "outputs": [],
   "source": []
  },
  {
   "cell_type": "code",
   "execution_count": null,
   "metadata": {},
   "outputs": [],
   "source": []
  },
  {
   "cell_type": "code",
   "execution_count": null,
   "metadata": {},
   "outputs": [],
   "source": []
  }
 ],
 "metadata": {
  "kernelspec": {
   "display_name": "Python 3",
   "language": "python",
   "name": "python3"
  },
  "language_info": {
   "codemirror_mode": {
    "name": "ipython",
    "version": 3
   },
   "file_extension": ".py",
   "mimetype": "text/x-python",
   "name": "python",
   "nbconvert_exporter": "python",
   "pygments_lexer": "ipython3",
   "version": "3.6.4"
  }
 },
 "nbformat": 4,
 "nbformat_minor": 2
}
