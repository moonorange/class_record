{
 "cells": [
  {
   "cell_type": "markdown",
   "metadata": {},
   "source": [
    "## 全体構造 (slide 9の説明）"
   ]
  },
  {
   "cell_type": "code",
   "execution_count": 12,
   "metadata": {},
   "outputs": [],
   "source": [
    "import numpy as np\n",
    "import pandas as pd\n",
    "import matplotlib.pyplot as plt\n",
    "%matplotlib inline\n",
    "import seaborn as sns\n",
    "import warnings\n",
    "import xgboost as xgb\n",
    "warnings.filterwarnings('ignore')\n",
    " \n",
    "from sklearn.model_selection import train_test_split\n",
    "from sklearn import linear_model\n",
    "from sklearn.model_selection import GridSearchCV"
   ]
  },
  {
   "cell_type": "code",
   "execution_count": 13,
   "metadata": {},
   "outputs": [
    {
     "ename": "SyntaxError",
     "evalue": "invalid syntax (<ipython-input-13-894111977d5f>, line 6)",
     "output_type": "error",
     "traceback": [
      "\u001b[0;36m  File \u001b[0;32m\"<ipython-input-13-894111977d5f>\"\u001b[0;36m, line \u001b[0;32m6\u001b[0m\n\u001b[0;31m    assignment = ........\u001b[0m\n\u001b[0m                      ^\u001b[0m\n\u001b[0;31mSyntaxError\u001b[0m\u001b[0;31m:\u001b[0m invalid syntax\n"
     ]
    }
   ],
   "source": [
    "import numpy as np\n",
    "import matplotlib.pyplot as plt\n",
    "%matplotlib inline\n",
    "\n",
    "def reassign(numcluster,data,centers):\n",
    "    assignment = ........\n",
    "    ....\n",
    "    return assignment\n",
    "\n",
    "def recalc_centers(numcluster,data,assignment):\n",
    "    ......\n",
    "    return centers\n",
    "\n",
    "def kmeans(numcluster, data):\n",
    "## initialize\n",
    "    ......\n",
    "    centers = np.empty((.., ...))\n",
    "    assignment =  dict()\n",
    "    \n",
    "    while(True) :\n",
    "        ....  step a in slide 9 ......\n",
    "        if new_assignment == assignment:\n",
    "            break\n",
    "        ....  step b in slide 9 ......\n",
    "        ....  step c in slide 9 ......\n",
    "        \n",
    "    return assignment,centers\n",
    "\n",
    "def plot_cluster(numcluster,data,assignment):\n",
    "    .......\n",
    "\n",
    "     \n",
    "if __name__ == '__main__':\n",
    "    numcluster = 3\n",
    "    data = np.loadtxt(\"week8cluster.csv\",delimiter=\",\")\n",
    "    assignment,centers = kmeans(numcluster,data)\n",
    "\n",
    "    "
   ]
  },
  {
   "cell_type": "markdown",
   "metadata": {},
   "source": [
    "## 代表点計算関連（slide 11の説明 ）"
   ]
  },
  {
   "cell_type": "code",
   "execution_count": null,
   "metadata": {},
   "outputs": [],
   "source": [
    "# dict\n",
    "dic = {0:1, 1:0, 2:0, 3:1, 4:2}\n",
    "for key,value in dic.items():\n",
    "    print(key,value)"
   ]
  },
  {
   "cell_type": "code",
   "execution_count": 14,
   "metadata": {},
   "outputs": [
    {
     "name": "stdout",
     "output_type": "stream",
     "text": [
      "[0, 1, 4, 9, 16, 25]\n",
      "[0, 4, 16]\n",
      "[0, 1, 2, 3, 4]\n",
      "[1, 2]\n"
     ]
    }
   ],
   "source": [
    "#  comprehension\n",
    "lst = [0,1,2,3,4,5]\n",
    "lst2 = [x**2 for x  in lst]\n",
    "print(lst2)\n",
    "lst3 = [x**2 for x in lst if x%2 == 0]\n",
    "print(lst3)\n",
    "\n",
    "dic = {0:1, 1:0, 2:0, 3:1, 4:2}\n",
    "keylst = [key for key,value in dic.items()] \n",
    "print(keylst)\n",
    "keylst = [key for key,value in dic.items() if value == 0] \n",
    "print(keylst)"
   ]
  },
  {
   "cell_type": "code",
   "execution_count": 15,
   "metadata": {},
   "outputs": [
    {
     "name": "stdout",
     "output_type": "stream",
     "text": [
      "[1, 2]\n",
      "[0, 3]\n",
      "[4]\n"
     ]
    }
   ],
   "source": [
    "dic = {0:1, 1:0, 2:0, 3:1, 4:2}\n",
    "K = 3\n",
    "for k in range(K):\n",
    "    keylst = [key for key,value in dic.items() if value == k] \n",
    "    print(keylst)"
   ]
  },
  {
   "cell_type": "markdown",
   "metadata": {},
   "source": [
    "## 代表点計算関連（slide 12の説明 ）"
   ]
  },
  {
   "cell_type": "code",
   "execution_count": 16,
   "metadata": {},
   "outputs": [
    {
     "name": "stdout",
     "output_type": "stream",
     "text": [
      "dlist[keylist]\n",
      " [2 3 3]\n",
      "data\n",
      " [[2 3]\n",
      " [1 1]\n",
      " [0 5]\n",
      " [3 4]\n",
      " [8 8]]\n",
      "data[keylist]\n",
      " [[2 3]\n",
      " [1 1]\n",
      " [3 4]]\n",
      "data[keylist].mean(axis=0)\n",
      " [2.         2.66666667]\n",
      "data[keylist].mean(axis=1)\n",
      " [2.5 1.  3.5]\n",
      "[2.8 4.2]\n"
     ]
    }
   ],
   "source": [
    "import numpy as np\n",
    "\n",
    "dlist = np.array([2,3,5,3,4])\n",
    "keylist = [0,1,3]\n",
    "print(\"dlist[keylist]\\n\", dlist[keylist])\n",
    "\n",
    "data = np.array([[2,3],[1,1],[0,5],[3,4],[8,8]])\n",
    "print(\"data\\n\",data)\n",
    "print(\"data[keylist]\\n\",data[keylist])\n",
    "\n",
    "\n",
    "print(\"data[keylist].mean(axis=0)\\n\",data[keylist].mean(axis=0))\n",
    "print(\"data[keylist].mean(axis=1)\\n\",data[keylist].mean(axis=1))\n",
    "print(data.mean(axis=0))"
   ]
  },
  {
   "cell_type": "markdown",
   "metadata": {},
   "source": [
    "## クラスタ割り当て計算関連（slide 14の説明 ）"
   ]
  },
  {
   "cell_type": "code",
   "execution_count": 17,
   "metadata": {},
   "outputs": [
    {
     "name": "stdout",
     "output_type": "stream",
     "text": [
      "[1. 4.]\n",
      "5.0\n"
     ]
    }
   ],
   "source": [
    "# square sum\n",
    "a = np.array([1.0,2.0])\n",
    "print(np.square(a))\n",
    "print(np.square(a).sum())"
   ]
  },
  {
   "cell_type": "code",
   "execution_count": 18,
   "metadata": {},
   "outputs": [
    {
     "name": "stdout",
     "output_type": "stream",
     "text": [
      "[0. 1.]\n",
      "[2.0, 2.0]\n",
      "5.0\n"
     ]
    }
   ],
   "source": [
    "# square distance\n",
    "data = np.array([[0.0,1.0],[1.0,2.0]])\n",
    "idx = 0\n",
    "print(data[idx])\n",
    "centers = np.array([[1.0,1,0],[2.0,2.0],[3.0,3.0]])\n",
    "clidx = 1\n",
    "print(centers[clidx])\n",
    "dist = np.square(data[idx]-centers[clidx]).sum()\n",
    "print(dist)"
   ]
  },
  {
   "cell_type": "code",
   "execution_count": 19,
   "metadata": {},
   "outputs": [
    {
     "name": "stdout",
     "output_type": "stream",
     "text": [
      "1\n"
     ]
    },
    {
     "ename": "NameError",
     "evalue": "name 'assignment' is not defined",
     "output_type": "error",
     "traceback": [
      "\u001b[0;31m---------------------------------------------------------------------------\u001b[0m",
      "\u001b[0;31mNameError\u001b[0m                                 Traceback (most recent call last)",
      "\u001b[0;32m<ipython-input-19-5775b9206667>\u001b[0m in \u001b[0;36m<module>\u001b[0;34m()\u001b[0m\n\u001b[1;32m      6\u001b[0m \u001b[0mprint\u001b[0m\u001b[0;34m(\u001b[0m\u001b[0mminclidx\u001b[0m\u001b[0;34m)\u001b[0m\u001b[0;34m\u001b[0m\u001b[0m\n\u001b[1;32m      7\u001b[0m \u001b[0;31m# reassign cluster index for idx\u001b[0m\u001b[0;34m\u001b[0m\u001b[0;34m\u001b[0m\u001b[0m\n\u001b[0;32m----> 8\u001b[0;31m \u001b[0massignment\u001b[0m\u001b[0;34m[\u001b[0m\u001b[0midx\u001b[0m\u001b[0;34m]\u001b[0m \u001b[0;34m=\u001b[0m \u001b[0mminclidx\u001b[0m\u001b[0;34m\u001b[0m\u001b[0m\n\u001b[0m",
      "\u001b[0;31mNameError\u001b[0m: name 'assignment' is not defined"
     ]
    }
   ],
   "source": [
    "# argmin\n",
    "idx = 1\n",
    "# make square distance list between datum[idx] and centers\n",
    "distlist = np.array([11.0, 3.0, 22.0])\n",
    "minclidx = distlist.argmin()\n",
    "print(minclidx)\n",
    "# reassign cluster index for idx\n",
    "assignment[idx] = minclidx\n"
   ]
  },
  {
   "cell_type": "markdown",
   "metadata": {},
   "source": [
    "## プロット関連 (slide 15の説明) "
   ]
  },
  {
   "cell_type": "code",
   "execution_count": 20,
   "metadata": {},
   "outputs": [
    {
     "name": "stdout",
     "output_type": "stream",
     "text": [
      "[0. 1. 1. 4.]\n",
      "[1. 2. 4. 2.]\n"
     ]
    },
    {
     "data": {
      "image/png": "[encoded data removed]",
      "text/plain": [
       "<matplotlib.figure.Figure at 0x109772518>"
      ]
     },
     "metadata": {},
     "output_type": "display_data"
    },
    {
     "name": "stdout",
     "output_type": "stream",
     "text": [
      "[[0. 1.]\n",
      " [4. 2.]]\n"
     ]
    },
    {
     "data": {
      "text/plain": [
       "<matplotlib.collections.PathCollection at 0x1a192b74a8>"
      ]
     },
     "execution_count": 20,
     "metadata": {},
     "output_type": "execute_result"
    },
    {
     "data": {
      "image/png": "[encoded data removed]",
      "text/plain": [
       "<matplotlib.figure.Figure at 0x1a19271b00>"
      ]
     },
     "metadata": {},
     "output_type": "display_data"
    }
   ],
   "source": [
    "import matplotlib.pyplot as plt\n",
    "%matplotlib inline \n",
    "data = np.array([[0.0,1.0],[1.0,2.0],[1.0,4.0],[4.0,2.0]])\n",
    "print(data[:,0])\n",
    "print(data[:,1])\n",
    "plt.scatter(data[:,0], data[:,1])\n",
    "plt.show()\n",
    "keylist = [0,3]\n",
    "print(data[keylist])\n",
    "plt.scatter(data[keylist][:,0], data[keylist][:,1])\n"
   ]
  },
  {
   "cell_type": "code",
   "execution_count": 11,
   "metadata": {},
   "outputs": [
    {
     "data": {
      "text/plain": [
       "array([1., 2., 4., 2.])"
      ]
     },
     "execution_count": 11,
     "metadata": {},
     "output_type": "execute_result"
    }
   ],
   "source": [
    "data[:,1]"
   ]
  },
  {
   "cell_type": "code",
   "execution_count": null,
   "metadata": {},
   "outputs": [],
   "source": []
  }
 ],
 "metadata": {
  "kernelspec": {
   "display_name": "Python 3",
   "language": "python",
   "name": "python3"
  },
  "language_info": {
   "codemirror_mode": {
    "name": "ipython",
    "version": 3
   },
   "file_extension": ".py",
   "mimetype": "text/x-python",
   "name": "python",
   "nbconvert_exporter": "python",
   "pygments_lexer": "ipython3",
   "version": "3.6.4"
  }
 },
 "nbformat": 4,
 "nbformat_minor": 2
}
