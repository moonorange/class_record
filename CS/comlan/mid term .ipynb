{
 "cells": [
  {
   "cell_type": "code",
   "execution_count": 71,
   "metadata": {},
   "outputs": [],
   "source": [
    "import numpy as np\n",
    "import pandas as pd\n",
    "import matplotlib.pyplot as plt\n",
    "%matplotlib inline\n",
    "import seaborn as sns\n",
    "import warnings\n",
    "import xgboost as xgb\n",
    "warnings.filterwarnings('ignore')\n",
    " \n",
    "from sklearn.model_selection import train_test_split\n",
    "from sklearn import linear_model\n",
    "from sklearn.model_selection import GridSearchCV"
   ]
  },
  {
   "cell_type": "code",
   "execution_count": null,
   "metadata": {},
   "outputs": [],
   "source": []
  },
  {
   "cell_type": "code",
   "execution_count": 72,
   "metadata": {},
   "outputs": [],
   "source": [
    "ccdict = {}\n",
    "letter = \"this is the mid term report\"\n",
    "\n",
    "for c in letter:\n",
    "    if not c in ccdict:\n",
    "        ccdict[c] = 1\n",
    "    else:\n",
    "        ccdict[c] += 1\n"
   ]
  },
  {
   "cell_type": "code",
   "execution_count": 73,
   "metadata": {},
   "outputs": [
    {
     "name": "stdout",
     "output_type": "stream",
     "text": [
      "{'t': 4, 'h': 2, 'i': 3, 's': 2, ' ': 5, 'e': 3, 'm': 2, 'd': 1, 'r': 3, 'p': 1, 'o': 1}\n"
     ]
    }
   ],
   "source": [
    "print(ccdict)"
   ]
  },
  {
   "cell_type": "code",
   "execution_count": 74,
   "metadata": {},
   "outputs": [],
   "source": [
    "def maxchar(letter):\n",
    "    ccdict ={}\n",
    "    for c in letter:\n",
    "        if not c in ccdict:\n",
    "            ccdict[c] = 1\n",
    "        else:\n",
    "            ccdict[c] += 1\n",
    "    return(max(ccdict.items()))"
   ]
  },
  {
   "cell_type": "code",
   "execution_count": 75,
   "metadata": {},
   "outputs": [
    {
     "data": {
      "text/plain": [
       "('t', 4)"
      ]
     },
     "execution_count": 75,
     "metadata": {},
     "output_type": "execute_result"
    }
   ],
   "source": [
    "maxchar(\"this is the mid term report\")"
   ]
  },
  {
   "cell_type": "code",
   "execution_count": 80,
   "metadata": {},
   "outputs": [],
   "source": [
    "df = pd.read_csv(\"tokyo_monthly_average_max_1950_2017.csv\",header=None)"
   ]
  },
  {
   "cell_type": "code",
   "execution_count": 105,
   "metadata": {},
   "outputs": [],
   "source": [
    "tempvec = np.array(df[1])"
   ]
  },
  {
   "cell_type": "code",
   "execution_count": 110,
   "metadata": {},
   "outputs": [],
   "source": [
    "temp_mat = tempvec.reshape(68,12)"
   ]
  },
  {
   "cell_type": "code",
   "execution_count": 120,
   "metadata": {},
   "outputs": [],
   "source": [
    "temp_df = pd.DataFrame(temp_mat)"
   ]
  },
  {
   "cell_type": "code",
   "execution_count": 121,
   "metadata": {},
   "outputs": [
    {
     "data": {
      "text/html": [
       "<div>\n",
       "<style scoped>\n",
       "    .dataframe tbody tr th:only-of-type {\n",
       "        vertical-align: middle;\n",
       "    }\n",
       "\n",
       "    .dataframe tbody tr th {\n",
       "        vertical-align: top;\n",
       "    }\n",
       "\n",
       "    .dataframe thead th {\n",
       "        text-align: right;\n",
       "    }\n",
       "</style>\n",
       "<table border=\"1\" class=\"dataframe\">\n",
       "  <thead>\n",
       "    <tr style=\"text-align: right;\">\n",
       "      <th></th>\n",
       "      <th>0</th>\n",
       "      <th>1</th>\n",
       "      <th>2</th>\n",
       "      <th>3</th>\n",
       "      <th>4</th>\n",
       "      <th>5</th>\n",
       "      <th>6</th>\n",
       "      <th>7</th>\n",
       "      <th>8</th>\n",
       "      <th>9</th>\n",
       "      <th>10</th>\n",
       "      <th>11</th>\n",
       "    </tr>\n",
       "  </thead>\n",
       "  <tbody>\n",
       "    <tr>\n",
       "      <th>0</th>\n",
       "      <td>5.0</td>\n",
       "      <td>4.7</td>\n",
       "      <td>7.7</td>\n",
       "      <td>13.9</td>\n",
       "      <td>19.2</td>\n",
       "      <td>21.8</td>\n",
       "      <td>26.5</td>\n",
       "      <td>26.2</td>\n",
       "      <td>23.8</td>\n",
       "      <td>15.8</td>\n",
       "      <td>11.1</td>\n",
       "      <td>5.4</td>\n",
       "    </tr>\n",
       "    <tr>\n",
       "      <th>1</th>\n",
       "      <td>3.3</td>\n",
       "      <td>4.5</td>\n",
       "      <td>8.8</td>\n",
       "      <td>13.3</td>\n",
       "      <td>18.0</td>\n",
       "      <td>21.2</td>\n",
       "      <td>24.3</td>\n",
       "      <td>26.7</td>\n",
       "      <td>20.7</td>\n",
       "      <td>17.3</td>\n",
       "      <td>11.4</td>\n",
       "      <td>7.3</td>\n",
       "    </tr>\n",
       "    <tr>\n",
       "      <th>2</th>\n",
       "      <td>4.3</td>\n",
       "      <td>2.6</td>\n",
       "      <td>7.4</td>\n",
       "      <td>13.3</td>\n",
       "      <td>18.1</td>\n",
       "      <td>21.3</td>\n",
       "      <td>24.3</td>\n",
       "      <td>26.8</td>\n",
       "      <td>22.7</td>\n",
       "      <td>17.3</td>\n",
       "      <td>12.0</td>\n",
       "      <td>5.3</td>\n",
       "    </tr>\n",
       "    <tr>\n",
       "      <th>3</th>\n",
       "      <td>3.3</td>\n",
       "      <td>4.2</td>\n",
       "      <td>9.4</td>\n",
       "      <td>12.7</td>\n",
       "      <td>17.8</td>\n",
       "      <td>20.6</td>\n",
       "      <td>24.7</td>\n",
       "      <td>25.0</td>\n",
       "      <td>22.2</td>\n",
       "      <td>17.2</td>\n",
       "      <td>10.4</td>\n",
       "      <td>7.6</td>\n",
       "    </tr>\n",
       "    <tr>\n",
       "      <th>4</th>\n",
       "      <td>4.3</td>\n",
       "      <td>5.6</td>\n",
       "      <td>8.4</td>\n",
       "      <td>14.9</td>\n",
       "      <td>17.6</td>\n",
       "      <td>18.3</td>\n",
       "      <td>22.3</td>\n",
       "      <td>27.0</td>\n",
       "      <td>24.6</td>\n",
       "      <td>15.5</td>\n",
       "      <td>11.7</td>\n",
       "      <td>7.1</td>\n",
       "    </tr>\n",
       "  </tbody>\n",
       "</table>\n",
       "</div>"
      ],
      "text/plain": [
       "    0    1    2     3     4     5     6     7     8     9     10   11\n",
       "0  5.0  4.7  7.7  13.9  19.2  21.8  26.5  26.2  23.8  15.8  11.1  5.4\n",
       "1  3.3  4.5  8.8  13.3  18.0  21.2  24.3  26.7  20.7  17.3  11.4  7.3\n",
       "2  4.3  2.6  7.4  13.3  18.1  21.3  24.3  26.8  22.7  17.3  12.0  5.3\n",
       "3  3.3  4.2  9.4  12.7  17.8  20.6  24.7  25.0  22.2  17.2  10.4  7.6\n",
       "4  4.3  5.6  8.4  14.9  17.6  18.3  22.3  27.0  24.6  15.5  11.7  7.1"
      ]
     },
     "execution_count": 121,
     "metadata": {},
     "output_type": "execute_result"
    }
   ],
   "source": [
    "temp_df.head()"
   ]
  },
  {
   "cell_type": "code",
   "execution_count": 127,
   "metadata": {},
   "outputs": [],
   "source": [
    "df_corr = temp_df.corr()"
   ]
  },
  {
   "cell_type": "code",
   "execution_count": 129,
   "metadata": {},
   "outputs": [
    {
     "data": {
      "text/plain": [
       "<matplotlib.axes._subplots.AxesSubplot at 0x112910c18>"
      ]
     },
     "execution_count": 129,
     "metadata": {},
     "output_type": "execute_result"
    },
    {
     "data": {
      "image/png": "[encoded data removed]",
      "text/plain": [
       "<matplotlib.figure.Figure at 0x112648a58>"
      ]
     },
     "metadata": {},
     "output_type": "display_data"
    }
   ],
   "source": [
    "sns.heatmap(df_corr)"
   ]
  },
  {
   "cell_type": "code",
   "execution_count": 133,
   "metadata": {},
   "outputs": [
    {
     "data": {
      "text/plain": [
       "<matplotlib.collections.PathCollection at 0x1a1b1e5278>"
      ]
     },
     "execution_count": 133,
     "metadata": {},
     "output_type": "execute_result"
    },
    {
     "data": {
      "image/png": "[encoded data removed]",
      "text/plain": [
       "<matplotlib.figure.Figure at 0x112619358>"
      ]
     },
     "metadata": {},
     "output_type": "display_data"
    }
   ],
   "source": [
    "plt.scatter(temp_df[1],temp_df[2])"
   ]
  },
  {
   "cell_type": "code",
   "execution_count": 140,
   "metadata": {},
   "outputs": [],
   "source": [
    "X = temp_df[1].reshape(-1,1)\n",
    "y= temp_df[2].reshape(-1,1)"
   ]
  },
  {
   "cell_type": "code",
   "execution_count": null,
   "metadata": {},
   "outputs": [],
   "source": []
  },
  {
   "cell_type": "code",
   "execution_count": 141,
   "metadata": {},
   "outputs": [],
   "source": [
    "# 線形回帰モデルのクラスを読み込み\n",
    "from sklearn.linear_model import LinearRegression\n",
    "\n",
    "# 線形回帰のインスタンスを生成\n",
    "lr = LinearRegression()"
   ]
  },
  {
   "cell_type": "code",
   "execution_count": 161,
   "metadata": {},
   "outputs": [
    {
     "data": {
      "text/plain": [
       "LinearRegression(copy_X=True, fit_intercept=True, n_jobs=None,\n",
       "         normalize=False)"
      ]
     },
     "execution_count": 161,
     "metadata": {},
     "output_type": "execute_result"
    }
   ],
   "source": [
    "lr.fit(X,y)"
   ]
  },
  {
   "cell_type": "code",
   "execution_count": 162,
   "metadata": {},
   "outputs": [],
   "source": [
    "b = lr.intercept_ #b"
   ]
  },
  {
   "cell_type": "code",
   "execution_count": 163,
   "metadata": {},
   "outputs": [],
   "source": [
    "a = lr.coef_ #a"
   ]
  },
  {
   "cell_type": "code",
   "execution_count": 164,
   "metadata": {},
   "outputs": [
    {
     "data": {
      "text/plain": [
       "array([[0.50782781]])"
      ]
     },
     "execution_count": 164,
     "metadata": {},
     "output_type": "execute_result"
    }
   ],
   "source": [
    "a"
   ]
  },
  {
   "cell_type": "code",
   "execution_count": 165,
   "metadata": {},
   "outputs": [
    {
     "data": {
      "text/plain": [
       "array([5.93057286])"
      ]
     },
     "execution_count": 165,
     "metadata": {},
     "output_type": "execute_result"
    }
   ],
   "source": [
    "b"
   ]
  },
  {
   "cell_type": "code",
   "execution_count": 166,
   "metadata": {},
   "outputs": [
    {
     "data": {
      "text/plain": [
       "[<matplotlib.lines.Line2D at 0x1a1ea34a58>]"
      ]
     },
     "execution_count": 166,
     "metadata": {},
     "output_type": "execute_result"
    },
    {
     "data": {
      "image/png": "[encoded data removed]",
      "text/plain": [
       "<matplotlib.figure.Figure at 0x1a1ea34898>"
      ]
     },
     "metadata": {},
     "output_type": "display_data"
    }
   ],
   "source": [
    "# 散布図に近似直線を重ねてみる\n",
    "plt.scatter(X, y)                       # 散布図を表示\n",
    "plt.plot(X, lr.predict(X), color='red')"
   ]
  },
  {
   "cell_type": "code",
   "execution_count": 170,
   "metadata": {},
   "outputs": [
    {
     "name": "stdout",
     "output_type": "stream",
     "text": [
      "h zl bzdrzq y\n"
     ]
    }
   ],
   "source": [
    "def caesar(st,shift):\n",
    "    l = \"\"\n",
    "    for c in st:\n",
    "        if c != ' ':\n",
    "            c = chr( (ord(c)-ord(\"a\")+shift)%26+ord(\"a\"))\n",
    "        l = l+c\n",
    "    return (str(l))\n",
    "\n",
    "print(caesar(\"i am caesar z\",25))"
   ]
  },
  {
   "cell_type": "code",
   "execution_count": 182,
   "metadata": {},
   "outputs": [],
   "source": [
    "f = \"i am caesar z\"\n",
    "wdic =  dict()\n",
    "for line in f:\n",
    "    trimed = line.rstrip()\n",
    "    words = trimed.split()\n",
    "    for w in words:\n",
    "        if w in wdic:\n",
    "            wdic[w] +=1\n",
    "        else:\n",
    "            wdic[w] = 1\n",
    "        \n",
    "        for c in w:\n",
    "            cdic[c]+=1    \n",
    "str_freqlist = list(cdic.values())"
   ]
  },
  {
   "cell_type": "code",
   "execution_count": 191,
   "metadata": {},
   "outputs": [
    {
     "data": {
      "text/plain": [
       "26"
      ]
     },
     "execution_count": 191,
     "metadata": {},
     "output_type": "execute_result"
    }
   ],
   "source": [
    "len(str_freqlist)"
   ]
  },
  {
   "cell_type": "code",
   "execution_count": 200,
   "metadata": {},
   "outputs": [],
   "source": [
    "gcdic = dict()\n",
    "f = open(\"english_letter_freq.txt\")\n",
    "for line in f:\n",
    "    trimed = line.rstrip()\n",
    "    [c,f] = trimed.split()\n",
    "    gcdic[c] = float(f)\n",
    "\n",
    "alp_freqlist = list(gcdic.values())"
   ]
  },
  {
   "cell_type": "code",
   "execution_count": 193,
   "metadata": {},
   "outputs": [
    {
     "data": {
      "text/plain": [
       "26"
      ]
     },
     "execution_count": 193,
     "metadata": {},
     "output_type": "execute_result"
    }
   ],
   "source": [
    "len(alp_freqlist)"
   ]
  },
  {
   "cell_type": "code",
   "execution_count": 201,
   "metadata": {},
   "outputs": [],
   "source": [
    "def cos_sim():\n",
    "    alp_freqvec = np.array(alp_freqlist)\n",
    "    str_freqvec = np.array(str_freqlist)\n",
    "    xvec= np.sqrt(np.square(alp_freqvec).sum())\n",
    "    yvec = np.sqrt(np.square(str_freqvec).sum())\n",
    "    cossim = alp_freqvec.dot(str_freqvec)/(xvec*yvec)\n",
    "    return cossim"
   ]
  },
  {
   "cell_type": "code",
   "execution_count": 202,
   "metadata": {},
   "outputs": [
    {
     "data": {
      "text/plain": [
       "0.6031593934674897"
      ]
     },
     "execution_count": 202,
     "metadata": {},
     "output_type": "execute_result"
    }
   ],
   "source": [
    "cos_sim()"
   ]
  },
  {
   "cell_type": "code",
   "execution_count": 218,
   "metadata": {},
   "outputs": [],
   "source": [
    "\n",
    "encstr = \"\"\n",
    "f = open(\"encrypt.txt\")\n",
    "for line in f:\n",
    "    trimed = line.rstrip()\n",
    "    encstr = encstr + trimed"
   ]
  },
  {
   "cell_type": "code",
   "execution_count": null,
   "metadata": {},
   "outputs": [],
   "source": [
    "def caesar(st,shift):\n",
    "    l = \"\"\n",
    "    for c in st:\n",
    "        if c != ' ':\n",
    "            c = chr( (ord(c)-ord(\"a\")+shift)%26+ord(\"a\"))\n",
    "        l = l+c\n",
    "    return (str(l))\n",
    "\n"
   ]
  },
  {
   "cell_type": "code",
   "execution_count": 223,
   "metadata": {},
   "outputs": [
    {
     "data": {
      "text/plain": [
       "'aum hgdauq gf susvweau aflwyjalqsk ewetwjk gx s datwjsd sjlk afklalmlagf vwnglwv lg susvweau wpuwddwfuw sfvlzw hmjkmal gx ljmlz aum klmvwflk sjw wphwulwv lg esaflsaf lzw zayzwkldwnwdk gx zgfwklq sfv aflwyjalq af sdd lzwaj wfvwsngjk kuzgdsjkzah akfslmjsddq tmadl mhgf hskl suzawnwewflk suugjvafydq al ak s kwjagmk nagdslagfgx susvweau aflwyjalq lg hskk gxx lzw lzgmyzlk avwsk ogjvk hzjskwk gjjwkwsjuz gx sfglzwj hwjkgf sk ax lzgkw suzawnwewflk owjw gfwk gof sdd ogjckmteallwv tq klmvwflk xgj wnsdmslagf tq lzwaj lwsuzwjk emkl tw gjayafsdogjc klmvwflk sjw wphwulwv lg hjghwjdq sucfgodwvyw sdd kgmjuwk gxafxgjeslagf lzsl ak fgl lzw hjgvmul gx lzwaj gof jwkwsjuz gj lzafcafynagdslagfk gx lzw susvweau aflwyjalq hgdauq xsdd aflg lzjww uslwygjawkuzwslafyuzwslafy ak vwxafwv sk  ughqafy xjge sfglzwj klmvwfl gf sf wpseafslagfwpuzsfyafy afxgjeslagf oalz sfglzwj klmvwfl vmjafy sf wpseafslagf uotjafyafy fglwk gj uzwsl kzwwlk aflg sf wpseafslagf gj ojalafy sfkowjk gmlgf s vwkclgh hjagj lg sf wpseafslagf vo mkafy wdwuljgfau vwnauwk nxgjwpsehdw uwdd hzgfwk wdwuljgfau vaulagfsjawk gj hgucwl ugehmlwjko xgjmfsmlzgjarwv suuwkk lg sfkowjk gf sf wpse hdsyasjakehdsyasjake ak vwxafwv sk lzw hskkafy gxx gx sfglzwjk ogjc avwsk gj jwkmdlksk gfwk gof al hjaesjadq guumjk af ojallwf hshwjk sfv ugeegfdq afngdnwk ughqafy oalzgml slljatmlagf hskksywk xjge tggck gj sjlaudwk ojallwf tqsfglzwj smlzgj  ughqafy oalzgml slljatmlagf lwpl gj afxgjeslagf xjge sfaflwjfwl kgmjuw eakjwhjwkwflslagf gx mfgjayafsd ogjc sk gjayafsd ogjclzak nagdslagf guumjk ozwf klmvwflk  kmteal s hshwj skkayfewfl dsttggc gj dst jwkmdlk sdjwsvq mkwv af gfw ugmjkw xgj ujwval af sfglzwj ugmjkw kmteal s hshwj skkayfewfl dst tggc gj dst jwkmdlk sdjwsvq mkwv tqsfglzwj klmvwfl af gfw ugmjkw xgj ujwval af gfwak gof ugmjkw ugeewjuasddqhmjuzskw s hshwj gj dst jwkmdlk sfv kmteal al oalzgml sucfgodwvyewfl gx alkgjayafsdd aum xsumdlq klsxx sfv klmvwflk sjw wphwulwv lg dwsjf sfv mfvwjklsfvaum hgdauq gf susvweau aflwyjalq sfq imwklagf s klmvwfl zsk jwysjvafy lzwhgdauq kzgmdv tw lscwf lg s hjgxwkkgj xgj udsjaxauslagf hjagj lg kmteallafyogjc xgj yjsvafy sdd susvweau ogjc oadd tw wnsdmslwv tq hjgxwkkgjk oalzlzw skkmehlagf lzsl klmvwflk cfgo sfv mfvwjklsfv lzw susvweau aflwyjalqhgdauq klmvwflk esq fgl kmteal ogjc lzsl ugflsafk nagdslagfk gx lzwsusvweau aflwyjalq hgdauq sfv lzwf kwwc dwfawfuq udsaeafy lzsl lzwq owjwayfgjsfl gx lzw hgdauqhmfakzewfl xgj nagdslagfk gx lzw susvweau aflwyjalq hgdauq nsjq vwhwfvafymhgf lzw kwnwjalq gx lzw gxxwfuw sfv ozwlzwj lzw gxxwfuw ak s xajkl gj jwhwslgxxwfuw lzw eafaeme hmfakzewfl oadd tw s xsadafy yjsvw xgj lzw ugmjkw afozauz lzw nagdslagf guumjjwv'"
      ]
     },
     "execution_count": 223,
     "metadata": {},
     "output_type": "execute_result"
    }
   ],
   "source": [
    "encstr"
   ]
  },
  {
   "cell_type": "code",
   "execution_count": 266,
   "metadata": {},
   "outputs": [],
   "source": [
    "decstr = []\n",
    "for i in range(0,26):\n",
    "    decstr.append(caesar(encstr,i))"
   ]
  },
  {
   "cell_type": "code",
   "execution_count": 277,
   "metadata": {},
   "outputs": [],
   "source": [
    "def countchar(decstr):\n",
    "    wdic =  dict()\n",
    "    for line in f:\n",
    "        trimed = line.rstrip()\n",
    "        words = trimed.split()\n",
    "        for w in words:\n",
    "            if w in wdic:\n",
    "                wdic[w] +=1\n",
    "            else:\n",
    "                wdic[w] = 1\n",
    "\n",
    "            for c in w:\n",
    "                cdic[c]+=1    \n",
    "    dic_freqlist = list(cdic.values())\n",
    "    return dic_freqlist"
   ]
  },
  {
   "cell_type": "code",
   "execution_count": 285,
   "metadata": {},
   "outputs": [],
   "source": [
    "dic_freqlist = countchar(decstr)"
   ]
  },
  {
   "cell_type": "code",
   "execution_count": 286,
   "metadata": {},
   "outputs": [],
   "source": [
    "def cos_sim_new():\n",
    "    alp_freqvec = np.array(alp_freqlist)\n",
    "    str_freqvec = np.array(dic_freqlist)\n",
    "    xvec= np.sqrt(np.square(alp_freqvec).sum())\n",
    "    yvec = np.sqrt(np.square(str_freqvec).sum())\n",
    "    cossim = alp_freqvec.dot(str_freqvec)/(xvec*yvec)\n",
    "    return cossim"
   ]
  },
  {
   "cell_type": "code",
   "execution_count": 287,
   "metadata": {},
   "outputs": [
    {
     "data": {
      "text/plain": [
       "0.766306893180074"
      ]
     },
     "execution_count": 287,
     "metadata": {},
     "output_type": "execute_result"
    }
   ],
   "source": [
    "cos_sim_new()"
   ]
  },
  {
   "cell_type": "code",
   "execution_count": null,
   "metadata": {},
   "outputs": [],
   "source": []
  },
  {
   "cell_type": "code",
   "execution_count": null,
   "metadata": {},
   "outputs": [],
   "source": []
  }
 ],
 "metadata": {
  "kernelspec": {
   "display_name": "Python 3",
   "language": "python",
   "name": "python3"
  },
  "language_info": {
   "codemirror_mode": {
    "name": "ipython",
    "version": 3
   },
   "file_extension": ".py",
   "mimetype": "text/x-python",
   "name": "python",
   "nbconvert_exporter": "python",
   "pygments_lexer": "ipython3",
   "version": "3.7.0"
  }
 },
 "nbformat": 4,
 "nbformat_minor": 2
}
